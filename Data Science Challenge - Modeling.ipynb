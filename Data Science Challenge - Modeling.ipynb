{
  "nbformat": 4,
  "nbformat_minor": 0,
  "metadata": {
    "colab": {
      "provenance": [],
      "machine_shape": "hm",
      "gpuType": "A100"
    },
    "kernelspec": {
      "name": "python3",
      "display_name": "Python 3"
    },
    "language_info": {
      "name": "python"
    },
    "accelerator": "GPU"
  },
  "cells": [
    {
      "cell_type": "code",
      "execution_count": 7,
      "metadata": {
        "id": "rHYWliYWo01d",
        "colab": {
          "base_uri": "https://localhost:8080/"
        },
        "outputId": "26cf842f-5288-4fef-ae11-e9c10f501fb5"
      },
      "outputs": [
        {
          "output_type": "stream",
          "name": "stdout",
          "text": [
            "Drive already mounted at /content/drive; to attempt to forcibly remount, call drive.mount(\"/content/drive\", force_remount=True).\n"
          ]
        }
      ],
      "source": [
        "# Import Google Colab utility methods\n",
        "from google.colab import drive\n",
        "from google.colab import files\n",
        "drive.mount('/content/drive')"
      ]
    },
    {
      "cell_type": "code",
      "source": [
        "import pandas as pd\n",
        "import numpy as np\n",
        "import re\n",
        "from imblearn.over_sampling import RandomOverSampler"
      ],
      "metadata": {
        "id": "YJPaIHTTo5hx"
      },
      "execution_count": 8,
      "outputs": []
    },
    {
      "cell_type": "code",
      "source": [
        "PATH = \"/content/drive/MyDrive/09 - Data Science - AUEB/Course - Data Science Challenge\"\n",
        "\n",
        "df_train, df_test = [pd.read_csv(f) for f in [f'{PATH}/df_train.csv', f'{PATH}/df_test.csv']]"
      ],
      "metadata": {
        "id": "SUBoigbho__Q"
      },
      "execution_count": 9,
      "outputs": []
    },
    {
      "cell_type": "code",
      "source": [
        "from sklearn.model_selection import train_test_split\n",
        "\n",
        "X_features = [\n",
        "    'price_na', 'core_number', 'community', 'ego_size',\n",
        "    'c0', 'c1', 'c2', 'c3', 'c4', 'c5', 'c6', 'c7', 'c8', 'c9', 'c10', 'c11', 'c12', 'c13', 'c14', 'c15'\n",
        "]\n",
        "\n",
        "X = df_train[X_features]\n",
        "y = df_train['pid_categ']\n",
        "\n",
        "# Oversample minority classes\n",
        "ros = RandomOverSampler(sampling_strategy={9: 6000, 13: 6000, 14:6000, 15:6000}, random_state=42)\n",
        "X_res, y_res = ros.fit_resample(X, y)\n",
        "\n",
        "# Split the original training set to train/validation sets with 80/20\n",
        "X_train, X_val, y_train, y_val = train_test_split(X_res, y_res, test_size=0.2, random_state=28, stratify=y_res)"
      ],
      "metadata": {
        "id": "hgh46276GLbk"
      },
      "execution_count": 10,
      "outputs": []
    },
    {
      "cell_type": "markdown",
      "source": [
        "* Logistic regression (baseline)"
      ],
      "metadata": {
        "id": "gWyjGBysC6vG"
      }
    },
    {
      "cell_type": "code",
      "source": [
        "from sklearn.linear_model import LogisticRegression\n",
        "\n",
        "# Logistic regression classifier\n",
        "lr_clf = LogisticRegression(C=10, max_iter=1000, solver='saga', random_state=42)\n",
        "\n",
        "# Fit the Logistic regression classifier to training data\n",
        "lr_clf.fit(X_train, y_train)\n",
        "\n",
        "# Predict the class (category) of products in the validation set\n",
        "y_pred_lr = lr_clf.predict(X_val)\n",
        "# Predict the probabilities of classes (categories) of products in the validation set\n",
        "y_pred_proba_lr = lr_clf.predict_proba(X_val)\n",
        "# Predict the class (category) of products in the test set\n",
        "X_test_lr = df_test[X_features]\n",
        "# Predict the probabilities of classes (categories) of products in the validation set\n",
        "y_test_lr = lr_clf.predict_proba(X_test_lr)"
      ],
      "metadata": {
        "id": "NDQnmOY4C9YZ",
        "colab": {
          "base_uri": "https://localhost:8080/"
        },
        "outputId": "c52b24fd-50a0-45ab-b57d-c313395d715b"
      },
      "execution_count": 5,
      "outputs": [
        {
          "output_type": "stream",
          "name": "stderr",
          "text": [
            "/usr/local/lib/python3.11/dist-packages/sklearn/linear_model/_sag.py:348: ConvergenceWarning: The max_iter was reached which means the coef_ did not converge\n",
            "  warnings.warn(\n"
          ]
        }
      ]
    },
    {
      "cell_type": "code",
      "source": [
        "from sklearn.metrics import accuracy_score, classification_report, log_loss\n",
        "\n",
        "# Evaluation of Logistic regression classifier\n",
        "print(\"Logistic Regression Accuracy:\", accuracy_score(y_val, y_pred_lr))\n",
        "print(\"\\nLogistic Regression Report:\\n\", classification_report(y_val, y_pred_lr))\n",
        "print(\"Logistic Regression Log Loss:\", log_loss(y_val, y_pred_proba_lr))"
      ],
      "metadata": {
        "id": "vb4LljIoDwTN",
        "colab": {
          "base_uri": "https://localhost:8080/"
        },
        "outputId": "5a4500ec-b77b-4018-ac11-09e9a87e7a1a"
      },
      "execution_count": 6,
      "outputs": [
        {
          "output_type": "stream",
          "name": "stdout",
          "text": [
            "Logistic Regression Accuracy: 0.6098655845802688\n",
            "\n",
            "Logistic Regression Report:\n",
            "               precision    recall  f1-score   support\n",
            "\n",
            "           0       0.63      0.82      0.71      3033\n",
            "           1       0.61      0.49      0.54      2372\n",
            "           2       0.49      0.80      0.61      8652\n",
            "           3       0.82      0.69      0.75      1073\n",
            "           4       0.59      0.39      0.47      3016\n",
            "           5       0.69      0.60      0.64      3565\n",
            "           6       0.78      0.56      0.65      1519\n",
            "           7       0.77      0.78      0.77      3752\n",
            "           8       0.69      0.55      0.61      1316\n",
            "           9       0.76      0.59      0.66      1200\n",
            "          10       0.53      0.31      0.39      3589\n",
            "          11       0.68      0.40      0.50      1425\n",
            "          12       0.70      0.25      0.36      1318\n",
            "          13       0.74      0.59      0.66      1200\n",
            "          14       0.80      0.63      0.70      1200\n",
            "          15       0.68      0.58      0.62      1200\n",
            "\n",
            "    accuracy                           0.61     39430\n",
            "   macro avg       0.68      0.56      0.60     39430\n",
            "weighted avg       0.63      0.61      0.60     39430\n",
            "\n",
            "Logistic Regression Log Loss: 1.3649778827399601\n"
          ]
        }
      ]
    },
    {
      "cell_type": "markdown",
      "source": [
        "* XGboost classifier"
      ],
      "metadata": {
        "id": "WBuoN3CACuEZ"
      }
    },
    {
      "cell_type": "code",
      "source": [
        "import xgboost as xgb\n",
        "\n",
        "# XGBoost classifier\n",
        "xgb_clf = xgb.XGBClassifier(\n",
        "    tree_method = \"hist\",\n",
        "    device = \"cuda\",\n",
        "    subsample=0.8,\n",
        "    n_estimators=600,\n",
        "    min_child_weight=3,\n",
        "    max_depth=8,\n",
        "    learning_rate=0.1,\n",
        "    random_state=42,\n",
        ")\n",
        "\n",
        "# Fit the XGBoost classifier to training data\n",
        "xgb_clf.fit(X_train, y_train)\n",
        "\n",
        "# Predict the class (category) of products in the validation set\n",
        "y_pred_xgb = xgb_clf.predict(X_val)\n",
        "# Predict the probabilities of classes (categories) of products in the validation set\n",
        "y_pred_proba_xgb = xgb_clf.predict_proba(X_val)\n",
        "# Predict the class (category) of products in the test set\n",
        "X_test_xgboost = df_test[X_features]\n",
        "# Predict the probabilities of classes (categories) of products in the validation set\n",
        "y_test_xgboost = xgb_clf.predict_proba(X_test_xgboost)"
      ],
      "metadata": {
        "id": "uzsW1KejCtY7"
      },
      "execution_count": 12,
      "outputs": []
    },
    {
      "cell_type": "code",
      "source": [
        "from sklearn.metrics import accuracy_score, classification_report, log_loss\n",
        "\n",
        "# Evaluation of XGBoost classifier\n",
        "print(\"XGBoost Accuracy:\", accuracy_score(y_val, y_pred_xgb))\n",
        "print(\"\\nXGBoost Classification Report:\\n\", classification_report(y_val, y_pred_xgb))\n",
        "print(\"XGBoost Log Loss:\", log_loss(y_val, y_pred_proba_xgb))"
      ],
      "metadata": {
        "id": "l7doS3AWXtEV",
        "colab": {
          "base_uri": "https://localhost:8080/"
        },
        "outputId": "9b607a57-8731-4295-e1fa-ff900447c933"
      },
      "execution_count": 13,
      "outputs": [
        {
          "output_type": "stream",
          "name": "stdout",
          "text": [
            "XGBoost Accuracy: 0.8956885620086229\n",
            "\n",
            "XGBoost Classification Report:\n",
            "               precision    recall  f1-score   support\n",
            "\n",
            "           0       0.93      0.95      0.94      3033\n",
            "           1       0.85      0.79      0.82      2372\n",
            "           2       0.88      0.92      0.90      8652\n",
            "           3       0.96      0.95      0.95      1073\n",
            "           4       0.89      0.91      0.90      3016\n",
            "           5       0.93      0.94      0.94      3565\n",
            "           6       0.94      0.91      0.92      1519\n",
            "           7       0.92      0.89      0.91      3752\n",
            "           8       0.93      0.91      0.92      1316\n",
            "           9       0.92      0.91      0.91      1200\n",
            "          10       0.79      0.80      0.79      3589\n",
            "          11       0.84      0.82      0.83      1425\n",
            "          12       0.85      0.74      0.79      1318\n",
            "          13       0.92      0.96      0.94      1200\n",
            "          14       0.97      0.99      0.98      1200\n",
            "          15       0.96      0.97      0.97      1200\n",
            "\n",
            "    accuracy                           0.90     39430\n",
            "   macro avg       0.91      0.90      0.90     39430\n",
            "weighted avg       0.90      0.90      0.90     39430\n",
            "\n",
            "XGBoost Log Loss: 0.35312867284509525\n"
          ]
        }
      ]
    },
    {
      "cell_type": "markdown",
      "source": [
        "* Random Forest classifier"
      ],
      "metadata": {
        "id": "yE9wdbNUCx1j"
      }
    },
    {
      "cell_type": "code",
      "source": [
        "from sklearn.ensemble import RandomForestClassifier\n",
        "\n",
        "rf_clf = RandomForestClassifier(\n",
        "    n_estimators=600,\n",
        "    max_depth=15,\n",
        "    min_samples_split=5,\n",
        "    min_samples_leaf=2,\n",
        "    max_features='sqrt',\n",
        "    class_weight='balanced',\n",
        "    random_state=42,\n",
        "    n_jobs=-1\n",
        ")\n",
        "\n",
        "# Fit the Random Forest classifier to training data\n",
        "rf_clf.fit(X_train, y_train)\n",
        "\n",
        "# Predict the class (category) of products in the validation set\n",
        "y_pred_rf = rf_clf.predict(X_val)\n",
        "# Predict the probabilities of classes (categories) of products in the validation set\n",
        "y_pred_proba_rf = rf_clf.predict_proba(X_val)\n",
        "# Predict the class (category) of products in the test set\n",
        "X_test_rf = df_test[X_features]\n",
        "# Predict the probabilities of classes (categories) of products in the validation set\n",
        "y_test_rf = rf_clf.predict_proba(X_test_rf)"
      ],
      "metadata": {
        "id": "WuEz83iTJu8h"
      },
      "execution_count": 9,
      "outputs": []
    },
    {
      "cell_type": "code",
      "source": [
        "# Evaluation of Random Forest classifier\n",
        "print(\"Random Forest Accuracy:\", accuracy_score(y_val, y_pred_rf))\n",
        "print(\"\\nRandom Forest Classification Report:\\n\", classification_report(y_val, y_pred_rf))\n",
        "print(\"Random Forest Log Loss:\", log_loss(y_val, y_pred_proba_rf))"
      ],
      "metadata": {
        "id": "swZExond-lNM",
        "colab": {
          "base_uri": "https://localhost:8080/"
        },
        "outputId": "08129f4d-a6bf-45f1-a434-40e450df5621"
      },
      "execution_count": 10,
      "outputs": [
        {
          "output_type": "stream",
          "name": "stdout",
          "text": [
            "Random Forest Accuracy: 0.7906416434187167\n",
            "\n",
            "Random Forest Classification Report:\n",
            "               precision    recall  f1-score   support\n",
            "\n",
            "           0       0.81      0.92      0.86      3033\n",
            "           1       0.78      0.69      0.73      2372\n",
            "           2       0.83      0.69      0.75      8652\n",
            "           3       0.89      0.93      0.91      1073\n",
            "           4       0.88      0.87      0.88      3016\n",
            "           5       0.88      0.86      0.87      3565\n",
            "           6       0.86      0.83      0.84      1519\n",
            "           7       0.93      0.82      0.87      3752\n",
            "           8       0.70      0.83      0.76      1316\n",
            "           9       0.80      0.84      0.82      1200\n",
            "          10       0.58      0.65      0.61      3589\n",
            "          11       0.70      0.68      0.69      1425\n",
            "          12       0.65      0.80      0.71      1318\n",
            "          13       0.76      0.88      0.82      1200\n",
            "          14       0.94      0.95      0.94      1200\n",
            "          15       0.60      0.95      0.73      1200\n",
            "\n",
            "    accuracy                           0.79     39430\n",
            "   macro avg       0.79      0.82      0.80     39430\n",
            "weighted avg       0.80      0.79      0.79     39430\n",
            "\n",
            "Random Forest Log Loss: 0.9174876884327172\n"
          ]
        }
      ]
    },
    {
      "cell_type": "code",
      "source": [
        "!pip install -q catboost"
      ],
      "metadata": {
        "id": "CwJvrVaCH7zR",
        "colab": {
          "base_uri": "https://localhost:8080/"
        },
        "outputId": "a34beb5a-6976-4e1a-e158-47151dbc9630"
      },
      "execution_count": 11,
      "outputs": [
        {
          "output_type": "stream",
          "name": "stdout",
          "text": [
            "\u001b[2K   \u001b[90m━━━━━━━━━━━━━━━━━━━━━━━━━━━━━━━━━━━━━━━━\u001b[0m \u001b[32m99.2/99.2 MB\u001b[0m \u001b[31m25.4 MB/s\u001b[0m eta \u001b[36m0:00:00\u001b[0m\n",
            "\u001b[?25h"
          ]
        }
      ]
    },
    {
      "cell_type": "code",
      "source": [
        "from catboost import CatBoostClassifier\n",
        "from sklearn.metrics import accuracy_score, classification_report, log_loss\n",
        "\n",
        "# Create Catboost classifier\n",
        "catboost_clf = CatBoostClassifier(\n",
        "    iterations=600,\n",
        "    depth=9,\n",
        "    learning_rate=0.2,\n",
        "    random_state=42,\n",
        "    verbose=100\n",
        ")\n",
        "\n",
        "# Fit Catboost classifier\n",
        "catboost_clf.fit(X_train, y_train, eval_set=(X_val, y_val), verbose=100)\n",
        "\n",
        "# Make predictions\n",
        "y_pred_catboost = catboost_clf.predict(X_val)\n",
        "y_pred_proba_catboost = catboost_clf.predict_proba(X_val)"
      ],
      "metadata": {
        "id": "KW_rHR6yIF-l",
        "colab": {
          "base_uri": "https://localhost:8080/"
        },
        "outputId": "366159c3-5f47-47ed-b7d0-ce6c1ae3a46a"
      },
      "execution_count": 12,
      "outputs": [
        {
          "output_type": "stream",
          "name": "stdout",
          "text": [
            "0:\tlearn: 1.9476977\ttest: 1.9519160\tbest: 1.9519160 (0)\ttotal: 308ms\tremaining: 3m 4s\n",
            "100:\tlearn: 0.4430846\ttest: 0.4721921\tbest: 0.4721921 (100)\ttotal: 24.7s\tremaining: 2m 2s\n",
            "200:\tlearn: 0.3749497\ttest: 0.4218031\tbest: 0.4218031 (200)\ttotal: 48.9s\tremaining: 1m 37s\n",
            "300:\tlearn: 0.3358384\ttest: 0.3992452\tbest: 0.3992452 (300)\ttotal: 1m 13s\tremaining: 1m 12s\n",
            "400:\tlearn: 0.3090979\ttest: 0.3863722\tbest: 0.3863722 (400)\ttotal: 1m 37s\tremaining: 48.4s\n",
            "500:\tlearn: 0.2870009\ttest: 0.3777327\tbest: 0.3777327 (500)\ttotal: 2m 1s\tremaining: 24s\n",
            "599:\tlearn: 0.2680831\ttest: 0.3707253\tbest: 0.3707253 (599)\ttotal: 2m 25s\tremaining: 0us\n",
            "\n",
            "bestTest = 0.3707252627\n",
            "bestIteration = 599\n",
            "\n"
          ]
        }
      ]
    },
    {
      "cell_type": "code",
      "source": [
        "# Evaluation of Catboost classifier\n",
        "print(\"\\nCatBoost Accuracy:\", accuracy_score(y_val, y_pred_catboost))\n",
        "print(\"\\nCatBoost Classification Report:\\n\", classification_report(y_val, y_pred_catboost))\n",
        "print(\"CatBoost Log Loss:\", log_loss(y_val, y_pred_proba_catboost))"
      ],
      "metadata": {
        "id": "Ynpn2UMw_Hcj",
        "colab": {
          "base_uri": "https://localhost:8080/"
        },
        "outputId": "1ccdac47-6d23-4cff-8b00-ad3c2512a006"
      },
      "execution_count": 13,
      "outputs": [
        {
          "output_type": "stream",
          "name": "stdout",
          "text": [
            "\n",
            "CatBoost Accuracy: 0.8916307380167385\n",
            "\n",
            "CatBoost Classification Report:\n",
            "               precision    recall  f1-score   support\n",
            "\n",
            "           0       0.93      0.94      0.94      3033\n",
            "           1       0.84      0.79      0.82      2372\n",
            "           2       0.88      0.92      0.90      8652\n",
            "           3       0.95      0.94      0.95      1073\n",
            "           4       0.88      0.91      0.90      3016\n",
            "           5       0.93      0.94      0.93      3565\n",
            "           6       0.94      0.90      0.92      1519\n",
            "           7       0.92      0.89      0.90      3752\n",
            "           8       0.94      0.91      0.93      1316\n",
            "           9       0.93      0.88      0.90      1200\n",
            "          10       0.79      0.79      0.79      3589\n",
            "          11       0.82      0.82      0.82      1425\n",
            "          12       0.86      0.72      0.78      1318\n",
            "          13       0.89      0.93      0.91      1200\n",
            "          14       0.96      0.98      0.97      1200\n",
            "          15       0.96      0.96      0.96      1200\n",
            "\n",
            "    accuracy                           0.89     39430\n",
            "   macro avg       0.90      0.89      0.90     39430\n",
            "weighted avg       0.89      0.89      0.89     39430\n",
            "\n",
            "CatBoost Log Loss: 0.3707252626918385\n"
          ]
        }
      ]
    },
    {
      "cell_type": "code",
      "source": [
        "from sklearn.model_selection import train_test_split\n",
        "from imblearn.over_sampling import RandomOverSampler\n",
        "from sklearn.feature_extraction.text import TfidfVectorizer\n",
        "\n",
        "df_train['pid_desc_tfidf'] = df_train['pid_desc_tfidf'].fillna('')\n",
        "\n",
        "X_desc = df_train[['pid_desc_tfidf']]\n",
        "y_desc = df_train['pid_categ']\n",
        "\n",
        "# Oversample\n",
        "ros = RandomOverSampler(sampling_strategy={9: 6000, 13: 6000, 14:6000, 15:6000}, random_state=42)\n",
        "X_res_desc, y_res_desc = ros.fit_resample(X_desc, y_desc)\n",
        "\n",
        "# Split\n",
        "X_train, X_val, y_train, y_val = train_test_split(\n",
        "    X_res_desc['pid_desc_tfidf'], y_res_desc,\n",
        "    test_size=0.2, random_state=28, stratify=y_res_desc\n",
        ")\n",
        "\n",
        "# Fit TF-IDF only on training set\n",
        "vec = TfidfVectorizer(\n",
        "    decode_error='ignore',\n",
        "    token_pattern=r'\\b[a-zA-Z]{2,}\\b',\n",
        "    strip_accents='unicode',\n",
        "    min_df=5,\n",
        "    max_features=20000,\n",
        "    stop_words='english',\n",
        "    ngram_range=(1, 2)\n",
        ")\n",
        "\n",
        "X_train_tfidf = vec.fit_transform(X_train)\n",
        "X_val_tfidf = vec.transform(X_val)"
      ],
      "metadata": {
        "id": "wkHdkvKbTJpc"
      },
      "execution_count": 14,
      "outputs": []
    },
    {
      "cell_type": "code",
      "source": [
        "from sklearn.feature_extraction.text import TfidfVectorizer\n",
        "from sklearn.model_selection import train_test_split\n",
        "from sklearn.utils.class_weight import compute_class_weight\n",
        "from sklearn.metrics import accuracy_score, classification_report, log_loss\n",
        "\n",
        "import numpy as np\n",
        "import tensorflow as tf\n",
        "from tensorflow import keras\n",
        "from tensorflow.keras import layers\n",
        "\n",
        "# Fit TF-IDF on training data, transform both train and val\n",
        "vectorizer = TfidfVectorizer(\n",
        "    decode_error='ignore',\n",
        "    token_pattern=r'\\b[a-zA-Z]{2,}\\b',\n",
        "    strip_accents='unicode',\n",
        "    min_df=5,\n",
        "    max_features=20000,\n",
        "    stop_words='english',\n",
        "    ngram_range=(1, 2)\n",
        ")\n",
        "\n",
        "X_train_tfidf = vectorizer.fit_transform(X_train)\n",
        "X_val_tfidf = vectorizer.transform(X_val)\n",
        "\n",
        "X_train_dense = X_train_tfidf.toarray()\n",
        "X_val_dense = X_val_tfidf.toarray()\n",
        "\n",
        "num_classes = len(np.unique(y_train))\n",
        "y_train_cat = keras.utils.to_categorical(y_train, num_classes)\n",
        "y_val_cat = keras.utils.to_categorical(y_val, num_classes)\n",
        "\n",
        "# Compute weights for each class\n",
        "classes = np.unique(y_train)\n",
        "class_weights = compute_class_weight('balanced', classes=classes, y=y_train)\n",
        "class_weight_dict = dict(zip(classes, class_weights))\n",
        "\n",
        "# Build the model\n",
        "model = keras.Sequential([\n",
        "    layers.Input(shape=(X_train_dense.shape[1],)),\n",
        "    layers.Dense(512, activation='relu'),\n",
        "    layers.BatchNormalization(),\n",
        "    layers.Dropout(0.4),\n",
        "    layers.Dense(256, activation='relu'),\n",
        "    layers.BatchNormalization(),\n",
        "    layers.Dropout(0.3),\n",
        "    layers.Dense(128, activation='relu'),\n",
        "    layers.BatchNormalization(),\n",
        "    layers.Dropout(0.2),\n",
        "    layers.Dense(num_classes, activation='softmax')\n",
        "])\n",
        "\n",
        "model.compile(\n",
        "    optimizer=keras.optimizers.Adam(learning_rate=1e-3),\n",
        "    loss='categorical_crossentropy',\n",
        "    metrics=['accuracy']\n",
        ")\n",
        "\n",
        "early_stop = keras.callbacks.EarlyStopping(\n",
        "    monitor='val_loss', patience=3, restore_best_weights=True\n",
        ")\n",
        "\n",
        "# Train the model\n",
        "history = model.fit(\n",
        "    X_train_dense, y_train_cat,\n",
        "    validation_data=(X_val_dense, y_val_cat),\n",
        "    epochs=20,\n",
        "    batch_size=16,\n",
        "    callbacks=[early_stop],\n",
        "    verbose=2,\n",
        "    class_weight=class_weight_dict\n",
        ")\n",
        "\n",
        "# Predictions and evaluation\n",
        "y_pred_proba_nn = model.predict(X_val_dense)\n",
        "y_pred_nn = np.argmax(y_pred_proba_nn, axis=1)\n",
        "\n",
        "print(\"NN (TF-IDF) Accuracy:\", accuracy_score(y_val, y_pred_nn))\n",
        "print(\"\\nClassification Report:\\n\", classification_report(y_val, y_pred_nn))\n",
        "print(\"Log Loss:\", log_loss(y_val, y_pred_proba_nn))"
      ],
      "metadata": {
        "id": "ZUNQqm0rKWrn",
        "colab": {
          "base_uri": "https://localhost:8080/"
        },
        "outputId": "3d4220f5-8df8-454e-df79-df56bd0ec488"
      },
      "execution_count": 15,
      "outputs": [
        {
          "output_type": "stream",
          "name": "stdout",
          "text": [
            "Epoch 1/20\n",
            "9858/9858 - 47s - 5ms/step - accuracy: 0.8295 - loss: 0.5213 - val_accuracy: 0.9023 - val_loss: 0.3334\n",
            "Epoch 2/20\n",
            "9858/9858 - 32s - 3ms/step - accuracy: 0.8986 - loss: 0.2770 - val_accuracy: 0.9136 - val_loss: 0.3012\n",
            "Epoch 3/20\n",
            "9858/9858 - 32s - 3ms/step - accuracy: 0.9208 - loss: 0.1998 - val_accuracy: 0.9087 - val_loss: 0.3081\n",
            "Epoch 4/20\n",
            "9858/9858 - 32s - 3ms/step - accuracy: 0.9324 - loss: 0.1594 - val_accuracy: 0.9176 - val_loss: 0.3002\n",
            "Epoch 5/20\n",
            "9858/9858 - 32s - 3ms/step - accuracy: 0.9427 - loss: 0.1311 - val_accuracy: 0.9190 - val_loss: 0.3279\n",
            "Epoch 6/20\n",
            "9858/9858 - 32s - 3ms/step - accuracy: 0.9497 - loss: 0.1141 - val_accuracy: 0.9213 - val_loss: 0.3270\n",
            "Epoch 7/20\n",
            "9858/9858 - 32s - 3ms/step - accuracy: 0.9548 - loss: 0.1034 - val_accuracy: 0.9246 - val_loss: 0.3322\n",
            "\u001b[1m1233/1233\u001b[0m \u001b[32m━━━━━━━━━━━━━━━━━━━━\u001b[0m\u001b[37m\u001b[0m \u001b[1m3s\u001b[0m 2ms/step\n",
            "NN (TF-IDF) Accuracy: 0.9175500887648999\n",
            "\n",
            "Classification Report:\n",
            "               precision    recall  f1-score   support\n",
            "\n",
            "           0       0.97      0.97      0.97      3033\n",
            "           1       0.86      0.91      0.88      2372\n",
            "           2       0.94      0.87      0.90      8652\n",
            "           3       0.94      0.97      0.95      1073\n",
            "           4       0.91      0.94      0.92      3016\n",
            "           5       0.96      0.94      0.95      3565\n",
            "           6       0.91      0.93      0.92      1519\n",
            "           7       0.97      0.91      0.94      3752\n",
            "           8       0.92      0.95      0.93      1316\n",
            "           9       0.93      0.94      0.94      1200\n",
            "          10       0.83      0.86      0.85      3589\n",
            "          11       0.87      0.92      0.89      1425\n",
            "          12       0.74      0.87      0.80      1318\n",
            "          13       0.96      0.99      0.98      1200\n",
            "          14       0.99      1.00      0.99      1200\n",
            "          15       0.95      1.00      0.97      1200\n",
            "\n",
            "    accuracy                           0.92     39430\n",
            "   macro avg       0.91      0.93      0.92     39430\n",
            "weighted avg       0.92      0.92      0.92     39430\n",
            "\n",
            "Log Loss: 0.3000177085235281\n"
          ]
        }
      ]
    },
    {
      "cell_type": "code",
      "source": [
        "import matplotlib.pyplot as plt\n",
        "\n",
        "# Get the number of epochs trained\n",
        "epochs = range(1, len(history.history['loss']) + 1)\n",
        "\n",
        "plt.figure(figsize=(14, 5))\n",
        "\n",
        "# Plot Loss\n",
        "plt.subplot(1, 2, 1)\n",
        "plt.plot(epochs, history.history['loss'], label='Train Loss')\n",
        "plt.plot(epochs, history.history['val_loss'], label='Val Loss')\n",
        "plt.xlabel('Epoch')\n",
        "plt.ylabel('Loss')\n",
        "plt.title('Loss')\n",
        "plt.legend()\n",
        "plt.grid(True)\n",
        "\n",
        "# Plot Accuracy\n",
        "plt.subplot(1, 2, 2)\n",
        "plt.plot(epochs, history.history['accuracy'], label='Train Acc')\n",
        "plt.plot(epochs, history.history['val_accuracy'], label='Val Acc')\n",
        "plt.xlabel('Epoch')\n",
        "plt.ylabel('Accuracy')\n",
        "plt.title('Accuracy')\n",
        "plt.legend()\n",
        "plt.grid(True)\n",
        "\n",
        "plt.tight_layout()\n",
        "plt.show()"
      ],
      "metadata": {
        "colab": {
          "base_uri": "https://localhost:8080/",
          "height": 492
        },
        "id": "Qa7SxW_UNLog",
        "outputId": "e9fdc8a2-35bf-4d4f-d3f0-731b7962b9af"
      },
      "execution_count": 23,
      "outputs": [
        {
          "output_type": "display_data",
          "data": {
            "text/plain": [
              "<Figure size 1400x500 with 2 Axes>"
            ],
            "image/png": "[encoded data removed]"
          },
          "metadata": {}
        }
      ]
    },
    {
      "cell_type": "markdown",
      "source": [
        "* Ensemble learning 1: Soft-voting"
      ],
      "metadata": {
        "id": "pH1iqOC2Ld3A"
      }
    },
    {
      "cell_type": "code",
      "source": [
        "X_all_tabular  = df_train[X_features]\n",
        "X_all_tfidf = vectorizer.transform(df_train['pid_desc_tfidf']).toarray()\n",
        "\n",
        "# XGBoost probabilities\n",
        "y_pred_proba_xgb_all = xgb_clf.predict_proba(X_all_tabular)\n",
        "\n",
        "# NN (TF-IDF) probabilities\n",
        "y_pred_proba_nn_all = model.predict(X_all_tfidf)\n",
        "\n",
        "# Simple average\n",
        "ensemble_proba_all = (y_pred_proba_xgb_all*0.25 + y_pred_proba_nn_all*0.75)\n",
        "ensemble_proba_all = ensemble_proba_all / ensemble_proba_all.sum(axis=1, keepdims=True)\n",
        "\n",
        "y_true = df_train['pid_categ']\n",
        "y_pred_ens = np.argmax(ensemble_proba_all, axis=1)"
      ],
      "metadata": {
        "id": "5_DyBxF2Mltp",
        "colab": {
          "base_uri": "https://localhost:8080/"
        },
        "outputId": "08ae0758-8d45-4d3e-ed61-856f205f0e67"
      },
      "execution_count": 46,
      "outputs": [
        {
          "output_type": "stream",
          "name": "stdout",
          "text": [
            "\u001b[1m5688/5688\u001b[0m \u001b[32m━━━━━━━━━━━━━━━━━━━━\u001b[0m\u001b[37m\u001b[0m \u001b[1m11s\u001b[0m 2ms/step\n"
          ]
        }
      ]
    },
    {
      "cell_type": "code",
      "source": [
        "# Evaluate log loss for soft-voting scheme\n",
        "print(\"Soft Voting Ensemble Log Loss on df_train:\", log_loss(y_true, ensemble_proba_all))\n",
        "print(\"\\nClassification Report:\\n\", classification_report(y_true, y_pred_ens))"
      ],
      "metadata": {
        "colab": {
          "base_uri": "https://localhost:8080/"
        },
        "id": "fDGrxFl0Mb_C",
        "outputId": "460af967-72df-48f8-eab2-65ab8f5b0de1"
      },
      "execution_count": 47,
      "outputs": [
        {
          "output_type": "stream",
          "name": "stdout",
          "text": [
            "Soft Voting Ensemble Log Loss on df_train: 0.1313109673729526\n",
            "\n",
            "Classification Report:\n",
            "               precision    recall  f1-score   support\n",
            "\n",
            "           0       0.98      0.99      0.99     15165\n",
            "           1       0.93      0.97      0.95     11861\n",
            "           2       0.98      0.92      0.95     43260\n",
            "           3       0.97      0.99      0.98      5366\n",
            "           4       0.96      0.98      0.97     15079\n",
            "           5       0.98      0.98      0.98     17822\n",
            "           6       0.97      0.98      0.98      7595\n",
            "           7       0.99      0.95      0.97     18760\n",
            "           8       0.97      0.98      0.98      6581\n",
            "           9       0.97      0.97      0.97      4515\n",
            "          10       0.90      0.95      0.92     17942\n",
            "          11       0.94      0.97      0.96      7124\n",
            "          12       0.84      0.96      0.89      6592\n",
            "          13       0.95      0.99      0.97      1617\n",
            "          14       0.98      1.00      0.99      1129\n",
            "          15       0.95      1.00      0.97      1598\n",
            "\n",
            "    accuracy                           0.96    182006\n",
            "   macro avg       0.95      0.97      0.96    182006\n",
            "weighted avg       0.96      0.96      0.96    182006\n",
            "\n"
          ]
        }
      ]
    },
    {
      "cell_type": "markdown",
      "source": [
        "* Ensemble learning 2: Meta-learner"
      ],
      "metadata": {
        "id": "ufNJfTbkMwPH"
      }
    },
    {
      "cell_type": "code",
      "source": [
        "import numpy as np\n",
        "from sklearn.model_selection import StratifiedKFold\n",
        "from sklearn.feature_extraction.text import TfidfVectorizer\n",
        "from sklearn.utils.class_weight import compute_class_weight\n",
        "from sklearn.linear_model import LogisticRegression\n",
        "from sklearn.metrics import log_loss, classification_report\n",
        "\n",
        "import xgboost as xgb\n",
        "import tensorflow as tf\n",
        "from tensorflow import keras\n",
        "from tensorflow.keras import layers\n",
        "\n",
        "K = 3\n",
        "skf = StratifiedKFold(n_splits=K, shuffle=True, random_state=42)\n",
        "\n",
        "n_classes = len(df_train['pid_categ'].unique())\n",
        "n_samples = df_train.shape[0]\n",
        "\n",
        "# Prepare placeholders for OOF probabilities\n",
        "oof_proba_xgb = np.zeros((n_samples, n_classes))\n",
        "oof_proba_nn  = np.zeros((n_samples, n_classes))\n",
        "\n",
        "X_features = [\n",
        "    'price_na', 'core_number', 'community', 'ego_size',\n",
        "    'c0', 'c1', 'c2', 'c3', 'c4', 'c5', 'c6', 'c7', 'c8', 'c9', 'c10', 'c11', 'c12', 'c13', 'c14', 'c15'\n",
        "]\n",
        "\n",
        "X_tab = df_train[X_features].values\n",
        "X_txt = df_train['pid_desc_tfidf'].values\n",
        "y_all = df_train['pid_categ'].values\n",
        "\n",
        "for fold_idx, (train_idx, valid_idx) in enumerate(skf.split(X_tab, y_all)):\n",
        "    # 1) Fit XGBoost on this fold's training rows\n",
        "    X_tr_tab, y_tr = X_tab[train_idx], y_all[train_idx]\n",
        "    X_val_tab, y_val = X_tab[valid_idx], y_all[valid_idx]\n",
        "\n",
        "    # (If you want to oversample each fold, do it here—but be consistent with what you did originally.)\n",
        "    # e.g. ros = RandomOverSampler(...)\n",
        "    # X_tr_tab_res, y_tr_res = ros.fit_resample(X_tr_tab, y_tr)\n",
        "    import xgboost as xgb\n",
        "\n",
        "    xgb_fold = xgb.XGBClassifier(\n",
        "        subsample=0.8, n_estimators=600, min_child_weight=3,\n",
        "        max_depth=8, learning_rate=0.1, random_state=42\n",
        "    )\n",
        "    xgb_fold.fit(X_tr_tab, y_tr)\n",
        "\n",
        "    # Store OOF probabilities for the XGBoost model\n",
        "    oof_proba_xgb[valid_idx, :] = xgb_fold.predict_proba(X_val_tab)\n",
        "\n",
        "    # 2) Fit the TF–IDF + NN pipeline on this fold's training rows\n",
        "    #    (We need to refit a *new* vectorizer on X_txt[train_idx], then train a fresh NN.)\n",
        "\n",
        "    vec_fold = TfidfVectorizer(\n",
        "        decode_error='ignore',\n",
        "        token_pattern=r'\\b[a-zA-Z]{2,}\\b',\n",
        "        strip_accents='unicode',\n",
        "        min_df=5,\n",
        "        max_features=20000,\n",
        "        stop_words='english',\n",
        "        ngram_range=(1, 2)\n",
        "    )\n",
        "    X_tr_txt = X_txt[train_idx]\n",
        "    X_val_txt = X_txt[valid_idx]\n",
        "\n",
        "    X_tr_tfidf = vec_fold.fit_transform(X_tr_txt).toarray()\n",
        "    X_val_tfidf = vec_fold.transform(X_val_txt).toarray()\n",
        "\n",
        "    # Build a fresh NN with the same architecture\n",
        "    num_classes = len(np.unique(y_tr))\n",
        "    y_tr_cat = keras.utils.to_categorical(y_tr, num_classes)\n",
        "    y_val_cat = keras.utils.to_categorical(y_val, num_classes)\n",
        "\n",
        "    class_weights = compute_class_weight('balanced', classes=np.unique(y_tr), y=y_tr)\n",
        "    class_weight_dict = dict(zip(np.unique(y_tr), class_weights))\n",
        "\n",
        "    nn_fold = keras.Sequential([\n",
        "        layers.Input(shape=(X_tr_tfidf.shape[1],)),\n",
        "        layers.Dense(512, activation='relu'),\n",
        "        layers.BatchNormalization(),\n",
        "        layers.Dropout(0.4),\n",
        "        layers.Dense(256, activation='relu'),\n",
        "        layers.BatchNormalization(),\n",
        "        layers.Dropout(0.3),\n",
        "        layers.Dense(128, activation='relu'),\n",
        "        layers.BatchNormalization(),\n",
        "        layers.Dropout(0.2),\n",
        "        layers.Dense(num_classes, activation='softmax')\n",
        "    ])\n",
        "    nn_fold.compile(\n",
        "        optimizer=keras.optimizers.Adam(1e-3),\n",
        "        loss='categorical_crossentropy',\n",
        "        metrics=['accuracy']\n",
        "    )\n",
        "    nn_fold.fit(\n",
        "        X_tr_tfidf, y_tr_cat,\n",
        "        validation_data=(X_val_tfidf, y_val_cat),\n",
        "        epochs=20, batch_size=16,\n",
        "        class_weight=class_weight_dict,\n",
        "        callbacks=[keras.callbacks.EarlyStopping(monitor='val_loss', patience=3, restore_best_weights=True)],\n",
        "        verbose=0\n",
        "    )\n",
        "\n",
        "    # Store OOF probabilities for the NN\n",
        "    oof_proba_nn[valid_idx, :] = nn_fold.predict(X_val_tfidf)\n",
        "\n",
        "# At this point, oof_proba_xgb and oof_proba_nn each have shape (n_samples, n_classes),\n",
        "# and each row i was predicted by a model that never saw row i during its training.\n",
        "\n",
        "# Build meta‐features by concatenating\n",
        "X_meta_train = np.hstack([oof_proba_xgb, oof_proba_nn])\n",
        "y_meta_train = y_all\n",
        "\n",
        "from sklearn.linear_model import LogisticRegression\n",
        "\n",
        "# Now train the meta‐learner on these “honest” OOF probabilities\n",
        "meta_learner = LogisticRegression(max_iter=1000, random_state=42)\n",
        "meta_learner.fit(X_meta_train, y_meta_train)\n",
        "\n",
        "# Evaluate on the same training set to see OOF log‐loss (still “honest”):\n",
        "meta_proba_train = meta_learner.predict_proba(X_meta_train)\n",
        "print(\"OOF Stacked Log Loss:\", log_loss(y_meta_train, meta_proba_train))\n",
        "print(classification_report(y_meta_train, np.argmax(meta_proba_train, axis=1)))"
      ],
      "metadata": {
        "colab": {
          "base_uri": "https://localhost:8080/"
        },
        "id": "Ix6GpQU0YOWi",
        "outputId": "5379ad23-5e98-40a0-ab9b-aafbe0f37c38"
      },
      "execution_count": 16,
      "outputs": [
        {
          "output_type": "stream",
          "name": "stdout",
          "text": [
            "\u001b[1m1896/1896\u001b[0m \u001b[32m━━━━━━━━━━━━━━━━━━━━\u001b[0m\u001b[37m\u001b[0m \u001b[1m4s\u001b[0m 2ms/step\n",
            "\u001b[1m1896/1896\u001b[0m \u001b[32m━━━━━━━━━━━━━━━━━━━━\u001b[0m\u001b[37m\u001b[0m \u001b[1m4s\u001b[0m 2ms/step\n",
            "\u001b[1m1896/1896\u001b[0m \u001b[32m━━━━━━━━━━━━━━━━━━━━\u001b[0m\u001b[37m\u001b[0m \u001b[1m4s\u001b[0m 2ms/step\n",
            "OOF Stacked Log Loss: 0.27297988775178483\n",
            "              precision    recall  f1-score   support\n",
            "\n",
            "           0       0.97      0.98      0.97     15165\n",
            "           1       0.89      0.89      0.89     11861\n",
            "           2       0.92      0.94      0.93     43260\n",
            "           3       0.96      0.97      0.96      5366\n",
            "           4       0.93      0.95      0.94     15079\n",
            "           5       0.96      0.96      0.96     17822\n",
            "           6       0.94      0.94      0.94      7595\n",
            "           7       0.96      0.92      0.94     18760\n",
            "           8       0.96      0.96      0.96      6581\n",
            "           9       0.93      0.92      0.93      4515\n",
            "          10       0.87      0.86      0.86     17942\n",
            "          11       0.90      0.92      0.91      7124\n",
            "          12       0.87      0.82      0.84      6592\n",
            "          13       0.86      0.85      0.85      1617\n",
            "          14       0.96      0.94      0.95      1129\n",
            "          15       0.94      0.92      0.93      1598\n",
            "\n",
            "    accuracy                           0.93    182006\n",
            "   macro avg       0.93      0.92      0.92    182006\n",
            "weighted avg       0.93      0.93      0.93    182006\n",
            "\n"
          ]
        }
      ]
    },
    {
      "cell_type": "code",
      "source": [
        "# Build meta‐features by concatenating\n",
        "X_meta_train = np.hstack([oof_proba_xgb, oof_proba_nn])\n",
        "y_meta_train = y_all\n",
        "\n",
        "from sklearn.linear_model import LogisticRegression\n",
        "\n",
        "# Now train the meta‐learner (XGBoost) on these “honest” OOF probabilities\n",
        "meta_learner = xgb.XGBClassifier(\n",
        "    n_estimators=100,\n",
        "    max_depth=5,\n",
        "    learning_rate=0.05,\n",
        "    random_state=42\n",
        ")\n",
        "meta_learner.fit(X_meta_train, y_meta_train)\n",
        "\n",
        "# Evaluate on the same training set to see OOF log‐loss (still “honest”):\n",
        "meta_proba_train = meta_learner.predict_proba(X_meta_train)\n",
        "print(\"Meta Stacked Log Loss:\", log_loss(y_meta_train, meta_proba_train))\n",
        "print(classification_report(y_meta_train, np.argmax(meta_proba_train, axis=1)))"
      ],
      "metadata": {
        "colab": {
          "base_uri": "https://localhost:8080/"
        },
        "id": "AiYbj30an5Dw",
        "outputId": "616fdd93-e4bf-474b-b8c9-e5058da9100b"
      },
      "execution_count": 22,
      "outputs": [
        {
          "output_type": "stream",
          "name": "stdout",
          "text": [
            "Meta-learner Stacked Log Loss: 0.2060057463920578\n",
            "              precision    recall  f1-score   support\n",
            "\n",
            "           0       0.97      0.98      0.98     15165\n",
            "           1       0.90      0.90      0.90     11861\n",
            "           2       0.92      0.95      0.94     43260\n",
            "           3       0.97      0.98      0.97      5366\n",
            "           4       0.94      0.96      0.95     15079\n",
            "           5       0.97      0.97      0.97     17822\n",
            "           6       0.96      0.95      0.96      7595\n",
            "           7       0.97      0.94      0.95     18760\n",
            "           8       0.97      0.97      0.97      6581\n",
            "           9       0.95      0.94      0.95      4515\n",
            "          10       0.89      0.86      0.87     17942\n",
            "          11       0.93      0.93      0.93      7124\n",
            "          12       0.90      0.82      0.86      6592\n",
            "          13       0.91      0.88      0.90      1617\n",
            "          14       0.98      0.96      0.97      1129\n",
            "          15       0.96      0.95      0.96      1598\n",
            "\n",
            "    accuracy                           0.94    182006\n",
            "   macro avg       0.94      0.93      0.94    182006\n",
            "weighted avg       0.94      0.94      0.94    182006\n",
            "\n"
          ]
        }
      ]
    },
    {
      "cell_type": "code",
      "source": [
        "# X_meta_test = np.hstack([y_pred_proba_xgb_test, y_pred_proba_nn_test])\n",
        "\n",
        "# meta_proba_test = meta_learner.predict_proba(X_meta_test)\n",
        "# meta_preds_test = np.argmax(meta_proba_test, axis=1)\n",
        "\n",
        "# class_cols = [f'class{i}' for i in range(16)]\n",
        "\n",
        "# # Build the DataFrame for submission\n",
        "# submission = pd.DataFrame(\n",
        "#     meta_proba_test,       # probabilities, shape (n_samples, 16)\n",
        "#     columns=class_cols\n",
        "# )\n",
        "# submission.insert(0, 'product', df_test['pid'].values)  # Insert 'pid' as first column\n",
        "\n",
        "# submission.to_csv('1daymetaCV1.csv', index=False)"
      ],
      "metadata": {
        "id": "1bljlosvNHiB",
        "colab": {
          "base_uri": "https://localhost:8080/",
          "height": 365
        },
        "outputId": "4e730d9f-3483-4e39-9020-11e03627fd0b"
      },
      "execution_count": 23,
      "outputs": [
        {
          "output_type": "error",
          "ename": "ValueError",
          "evalue": "Length of values (45502) does not match length of index (182006)",
          "traceback": [
            "\u001b[0;31m---------------------------------------------------------------------------\u001b[0m",
            "\u001b[0;31mValueError\u001b[0m                                Traceback (most recent call last)",
            "\u001b[0;32m<ipython-input-23-dd81016eb3d0>\u001b[0m in \u001b[0;36m<cell line: 0>\u001b[0;34m()\u001b[0m\n\u001b[1;32m     11\u001b[0m     \u001b[0mcolumns\u001b[0m\u001b[0;34m=\u001b[0m\u001b[0mclass_cols\u001b[0m\u001b[0;34m\u001b[0m\u001b[0;34m\u001b[0m\u001b[0m\n\u001b[1;32m     12\u001b[0m )\n\u001b[0;32m---> 13\u001b[0;31m \u001b[0msubmission\u001b[0m\u001b[0;34m.\u001b[0m\u001b[0minsert\u001b[0m\u001b[0;34m(\u001b[0m\u001b[0;36m0\u001b[0m\u001b[0;34m,\u001b[0m \u001b[0;34m'product'\u001b[0m\u001b[0;34m,\u001b[0m \u001b[0mdf_test\u001b[0m\u001b[0;34m[\u001b[0m\u001b[0;34m'pid'\u001b[0m\u001b[0;34m]\u001b[0m\u001b[0;34m.\u001b[0m\u001b[0mvalues\u001b[0m\u001b[0;34m)\u001b[0m  \u001b[0;31m# Insert 'pid' as first column\u001b[0m\u001b[0;34m\u001b[0m\u001b[0;34m\u001b[0m\u001b[0m\n\u001b[0m\u001b[1;32m     14\u001b[0m \u001b[0;34m\u001b[0m\u001b[0m\n\u001b[1;32m     15\u001b[0m \u001b[0msubmission\u001b[0m\u001b[0;34m.\u001b[0m\u001b[0mto_csv\u001b[0m\u001b[0;34m(\u001b[0m\u001b[0;34m'1daymetaCV1.csv'\u001b[0m\u001b[0;34m,\u001b[0m \u001b[0mindex\u001b[0m\u001b[0;34m=\u001b[0m\u001b[0;32mFalse\u001b[0m\u001b[0;34m)\u001b[0m\u001b[0;34m\u001b[0m\u001b[0;34m\u001b[0m\u001b[0m\n",
            "\u001b[0;32m/usr/local/lib/python3.11/dist-packages/pandas/core/frame.py\u001b[0m in \u001b[0;36minsert\u001b[0;34m(self, loc, column, value, allow_duplicates)\u001b[0m\n\u001b[1;32m   5169\u001b[0m             \u001b[0mvalue\u001b[0m \u001b[0;34m=\u001b[0m \u001b[0mvalue\u001b[0m\u001b[0;34m.\u001b[0m\u001b[0miloc\u001b[0m\u001b[0;34m[\u001b[0m\u001b[0;34m:\u001b[0m\u001b[0;34m,\u001b[0m \u001b[0;36m0\u001b[0m\u001b[0;34m]\u001b[0m\u001b[0;34m\u001b[0m\u001b[0;34m\u001b[0m\u001b[0m\n\u001b[1;32m   5170\u001b[0m \u001b[0;34m\u001b[0m\u001b[0m\n\u001b[0;32m-> 5171\u001b[0;31m         \u001b[0mvalue\u001b[0m\u001b[0;34m,\u001b[0m \u001b[0mrefs\u001b[0m \u001b[0;34m=\u001b[0m \u001b[0mself\u001b[0m\u001b[0;34m.\u001b[0m\u001b[0m_sanitize_column\u001b[0m\u001b[0;34m(\u001b[0m\u001b[0mvalue\u001b[0m\u001b[0;34m)\u001b[0m\u001b[0;34m\u001b[0m\u001b[0;34m\u001b[0m\u001b[0m\n\u001b[0m\u001b[1;32m   5172\u001b[0m         \u001b[0mself\u001b[0m\u001b[0;34m.\u001b[0m\u001b[0m_mgr\u001b[0m\u001b[0;34m.\u001b[0m\u001b[0minsert\u001b[0m\u001b[0;34m(\u001b[0m\u001b[0mloc\u001b[0m\u001b[0;34m,\u001b[0m \u001b[0mcolumn\u001b[0m\u001b[0;34m,\u001b[0m \u001b[0mvalue\u001b[0m\u001b[0;34m,\u001b[0m \u001b[0mrefs\u001b[0m\u001b[0;34m=\u001b[0m\u001b[0mrefs\u001b[0m\u001b[0;34m)\u001b[0m\u001b[0;34m\u001b[0m\u001b[0;34m\u001b[0m\u001b[0m\n\u001b[1;32m   5173\u001b[0m \u001b[0;34m\u001b[0m\u001b[0m\n",
            "\u001b[0;32m/usr/local/lib/python3.11/dist-packages/pandas/core/frame.py\u001b[0m in \u001b[0;36m_sanitize_column\u001b[0;34m(self, value)\u001b[0m\n\u001b[1;32m   5264\u001b[0m \u001b[0;34m\u001b[0m\u001b[0m\n\u001b[1;32m   5265\u001b[0m         \u001b[0;32mif\u001b[0m \u001b[0mis_list_like\u001b[0m\u001b[0;34m(\u001b[0m\u001b[0mvalue\u001b[0m\u001b[0;34m)\u001b[0m\u001b[0;34m:\u001b[0m\u001b[0;34m\u001b[0m\u001b[0;34m\u001b[0m\u001b[0m\n\u001b[0;32m-> 5266\u001b[0;31m             \u001b[0mcom\u001b[0m\u001b[0;34m.\u001b[0m\u001b[0mrequire_length_match\u001b[0m\u001b[0;34m(\u001b[0m\u001b[0mvalue\u001b[0m\u001b[0;34m,\u001b[0m \u001b[0mself\u001b[0m\u001b[0;34m.\u001b[0m\u001b[0mindex\u001b[0m\u001b[0;34m)\u001b[0m\u001b[0;34m\u001b[0m\u001b[0;34m\u001b[0m\u001b[0m\n\u001b[0m\u001b[1;32m   5267\u001b[0m         \u001b[0marr\u001b[0m \u001b[0;34m=\u001b[0m \u001b[0msanitize_array\u001b[0m\u001b[0;34m(\u001b[0m\u001b[0mvalue\u001b[0m\u001b[0;34m,\u001b[0m \u001b[0mself\u001b[0m\u001b[0;34m.\u001b[0m\u001b[0mindex\u001b[0m\u001b[0;34m,\u001b[0m \u001b[0mcopy\u001b[0m\u001b[0;34m=\u001b[0m\u001b[0;32mTrue\u001b[0m\u001b[0;34m,\u001b[0m \u001b[0mallow_2d\u001b[0m\u001b[0;34m=\u001b[0m\u001b[0;32mTrue\u001b[0m\u001b[0;34m)\u001b[0m\u001b[0;34m\u001b[0m\u001b[0;34m\u001b[0m\u001b[0m\n\u001b[1;32m   5268\u001b[0m         if (\n",
            "\u001b[0;32m/usr/local/lib/python3.11/dist-packages/pandas/core/common.py\u001b[0m in \u001b[0;36mrequire_length_match\u001b[0;34m(data, index)\u001b[0m\n\u001b[1;32m    571\u001b[0m     \"\"\"\n\u001b[1;32m    572\u001b[0m     \u001b[0;32mif\u001b[0m \u001b[0mlen\u001b[0m\u001b[0;34m(\u001b[0m\u001b[0mdata\u001b[0m\u001b[0;34m)\u001b[0m \u001b[0;34m!=\u001b[0m \u001b[0mlen\u001b[0m\u001b[0;34m(\u001b[0m\u001b[0mindex\u001b[0m\u001b[0;34m)\u001b[0m\u001b[0;34m:\u001b[0m\u001b[0;34m\u001b[0m\u001b[0;34m\u001b[0m\u001b[0m\n\u001b[0;32m--> 573\u001b[0;31m         raise ValueError(\n\u001b[0m\u001b[1;32m    574\u001b[0m             \u001b[0;34m\"Length of values \"\u001b[0m\u001b[0;34m\u001b[0m\u001b[0;34m\u001b[0m\u001b[0m\n\u001b[1;32m    575\u001b[0m             \u001b[0;34mf\"({len(data)}) \"\u001b[0m\u001b[0;34m\u001b[0m\u001b[0;34m\u001b[0m\u001b[0m\n",
            "\u001b[0;31mValueError\u001b[0m: Length of values (45502) does not match length of index (182006)"
          ]
        }
      ]
    }
  ]
}