{
 "cells": [
  {
   "cell_type": "code",
   "execution_count": 1,
   "id": "66b18bd1",
   "metadata": {},
   "outputs": [],
   "source": [
    "# Import third-party libraries and packages\n",
    "import pandas as pd\n",
    "import numpy as np\n",
    "\n",
    "import matplotlib.pyplot as plt\n",
    "import seaborn as sns\n",
    "\n",
    "import networkx as nx"
   ]
  },
  {
   "cell_type": "code",
   "execution_count": 3,
   "id": "994c9046",
   "metadata": {},
   "outputs": [],
   "source": [
    "# Define the relative path for data\n",
    "PATH = 'data_inf342'"
   ]
  },
  {
   "cell_type": "markdown",
   "id": "4813e07a",
   "metadata": {},
   "source": [
    "# Import data"
   ]
  },
  {
   "cell_type": "code",
   "execution_count": 4,
   "id": "c35a5200",
   "metadata": {},
   "outputs": [
    {
     "name": "stdout",
     "output_type": "stream",
     "text": [
      "A total of 182006 products are included in the training set.\n"
     ]
    }
   ],
   "source": [
    "# Read the product IDs for the training set\n",
    "with open(f\"{PATH}/y_train.txt\", \"r\") as f:\n",
    "    pid_train = [int(line.split(',')[0]) for line in f]\n",
    "\n",
    "print(f\"A total of {len(pid_train)} products are included in the training set.\")"
   ]
  },
  {
   "cell_type": "code",
   "execution_count": 5,
   "id": "95c70da8",
   "metadata": {},
   "outputs": [
    {
     "name": "stdout",
     "output_type": "stream",
     "text": [
      "A total of 45502 products are included in the test set.\n"
     ]
    }
   ],
   "source": [
    "# Read the product IDs for the test set\n",
    "with open(f\"{PATH}/test.txt\", \"r\") as f:\n",
    "    pid_test = [int(line.split(',')[0]) for line in f]\n",
    "\n",
    "print(f\"A total of {len(pid_test)} products are included in the test set.\")"
   ]
  },
  {
   "cell_type": "code",
   "execution_count": 6,
   "id": "4dadf64d",
   "metadata": {},
   "outputs": [
    {
     "name": "stdout",
     "output_type": "stream",
     "text": [
      "A total of 227508 products are included in both sets.\n"
     ]
    }
   ],
   "source": [
    "print(f\"A total of {len(pid_test) + len(pid_train)} products are included in both sets.\")"
   ]
  },
  {
   "cell_type": "code",
   "execution_count": 7,
   "id": "695c95f6",
   "metadata": {},
   "outputs": [
    {
     "name": "stdout",
     "output_type": "stream",
     "text": [
      "A total of 276453 product descriptions are available.\n"
     ]
    }
   ],
   "source": [
    "# Read all the product descriptions\n",
    "with open(f\"{PATH}/description.txt\", \"r\") as f:\n",
    "    pid_desc = {int(line.split('|=|')[0]): line.split('|=|')[1].rstrip('\\n') for line in f}\n",
    "\n",
    "print(f\"A total of {len(pid_desc)} product descriptions are available.\")"
   ]
  },
  {
   "cell_type": "code",
   "execution_count": 8,
   "id": "829c00dc",
   "metadata": {},
   "outputs": [
    {
     "name": "stdout",
     "output_type": "stream",
     "text": [
      "A total of 198817 product prices are available.\n"
     ]
    }
   ],
   "source": [
    "# Read the product prices\n",
    "with open(f\"{PATH}/price.txt\", \"r\") as f:\n",
    "    pid_price = {int(line.split(',')[0]): float(line.split(',')[1].rstrip('\\n')) for line in f}\n",
    "\n",
    "print(f\"A total of {len(pid_price)} product prices are available.\")"
   ]
  },
  {
   "cell_type": "code",
   "execution_count": 9,
   "id": "4c0e05b5",
   "metadata": {},
   "outputs": [
    {
     "name": "stdout",
     "output_type": "stream",
     "text": [
      "The product labels included in the training set are: {0, 1, 2, 3, 4, 5, 6, 7, 8, 9, 10, 11, 12, 13, 14, 15}.\n"
     ]
    }
   ],
   "source": [
    "# Read the labels (classes) for the products of the training set\n",
    "with open(f\"{PATH}/y_train.txt\", \"r\") as f:\n",
    "    y_train = [int(line.split(',')[1].rstrip('\\n')) for line in f]\n",
    "\n",
    "print(f\"The product labels included in the training set are: {set(y_train)}.\")"
   ]
  },
  {
   "cell_type": "code",
   "execution_count": 10,
   "id": "6c461ab0",
   "metadata": {},
   "outputs": [
    {
     "name": "stdout",
     "output_type": "stream",
     "text": [
      "The product graph has 276453 nodes and 1811087 edges.\n"
     ]
    }
   ],
   "source": [
    "# Read the product graph\n",
    "G = nx.read_edgelist(f\"{PATH}/edgelist.txt\", delimiter=',', create_using=nx.Graph(), nodetype=int)\n",
    "\n",
    "print(f\"The product graph has {G.number_of_nodes()} nodes and {G.number_of_edges()} edges.\")"
   ]
  },
  {
   "cell_type": "markdown",
   "id": "a2b230dd",
   "metadata": {},
   "source": [
    "# Explore data"
   ]
  },
  {
   "cell_type": "markdown",
   "id": "f4e77981",
   "metadata": {},
   "source": [
    "## Explore product classes"
   ]
  },
  {
   "cell_type": "code",
   "execution_count": 11,
   "id": "5e671e4e",
   "metadata": {},
   "outputs": [
    {
     "name": "stdout",
     "output_type": "stream",
     "text": [
      "[(2, 43260), (7, 18760), (10, 17942), (5, 17822), (0, 15165), (4, 15079), (1, 11861), (6, 7595), (11, 7124), (12, 6592), (8, 6581), (3, 5366), (9, 4515), (13, 1617), (15, 1598), (14, 1129)]\n"
     ]
    }
   ],
   "source": [
    "from collections import Counter\n",
    "print(Counter(y_train).most_common(16))"
   ]
  },
  {
   "cell_type": "code",
   "execution_count": 12,
   "id": "725996c1",
   "metadata": {},
   "outputs": [
    {
     "data": {
      "image/png": "[encoded data removed]",
      "text/plain": [
       "<Figure size 1200x600 with 1 Axes>"
      ]
     },
     "metadata": {},
     "output_type": "display_data"
    }
   ],
   "source": [
    "plt.figure(figsize=(12, 6))\n",
    "# Plot the frequency of product classes in the training set\n",
    "_ = sns.countplot(x=y_train).set(\n",
    "    xlabel=\"Product class\",\n",
    "    ylabel=\"Frequency\",\n",
    "    title=\"Frequency of product classes in the training set\",\n",
    ")"
   ]
  },
  {
   "cell_type": "code",
   "execution_count": 13,
   "id": "5b716572",
   "metadata": {},
   "outputs": [],
   "source": [
    "# Create a dataframe for the training set\n",
    "df_train = pd.DataFrame({'pid': pid_train, 'pid_categ': y_train})\n",
    "\n",
    "# Create a dataframe for the testing set\n",
    "df_test  = pd.DataFrame({'pid': pid_test})"
   ]
  },
  {
   "cell_type": "code",
   "execution_count": 14,
   "id": "b90fce47",
   "metadata": {},
   "outputs": [],
   "source": [
    "# Create a column with product prices to the training and test set\n",
    "df_train['pid_price'], df_test['pid_price'] = df_train['pid'].map(pid_price), df_test['pid'].map(pid_price)\n",
    "\n",
    "# Create a column to indicate if the price is missing (NA) in the training and test set\n",
    "df_train, df_test = [df.assign(price_na=df['pid_price'].isna().astype(int)) for df in (df_train, df_test)]\n",
    "\n",
    "# Create a column with product descriptions to the training and test set\n",
    "df_train['pid_desc'], df_test['pid_desc'] = df_train['pid'].map(pid_desc), df_test['pid'].map(pid_desc)"
   ]
  },
  {
   "cell_type": "markdown",
   "id": "a1ba2ce7",
   "metadata": {},
   "source": [
    "## Explore product descriptions"
   ]
  },
  {
   "cell_type": "code",
   "execution_count": 15,
   "id": "bec4b6e9",
   "metadata": {},
   "outputs": [],
   "source": [
    "# Calculate the word count of product descriptions in the training set and test set\n",
    "for df in [df_train, df_test]: df['pid_desc_word_count'] = df['pid_desc'].apply(lambda x: len(str(x).split()))"
   ]
  },
  {
   "cell_type": "code",
   "execution_count": 16,
   "id": "ed1fd664",
   "metadata": {},
   "outputs": [],
   "source": [
    "# Group word counts by product category in the training set\n",
    "desc_90 = df_train[['pid_categ', 'pid_desc_word_count']].copy()\n",
    "desc_90['word_90'] = desc_90.groupby('pid_categ')['pid_desc_word_count'].transform(lambda x: x.clip(upper=x.quantile(0.95)))"
   ]
  },
  {
   "cell_type": "code",
   "execution_count": 17,
   "id": "a9b3d7d0",
   "metadata": {},
   "outputs": [
    {
     "data": {
      "image/png": "[encoded data removed]",
      "text/plain": [
       "<Figure size 1800x800 with 1 Axes>"
      ]
     },
     "metadata": {},
     "output_type": "display_data"
    }
   ],
   "source": [
    "plt.figure(figsize=(18, 8))\n",
    "# Plot boxplots for word counts in product descriptions in the training set\n",
    "_ = sns.boxplot(\n",
    "    x='pid_categ', \n",
    "    y='word_90', \n",
    "    data=desc_90\n",
    ").set(\n",
    "    xlabel=\"Product Category\",\n",
    "    ylabel=\"Word Count in Description\",\n",
    "    title=\"Distribution of Description Word Counts per Category\"\n",
    ")"
   ]
  },
  {
   "cell_type": "markdown",
   "id": "a5f01bf6",
   "metadata": {},
   "source": [
    "## Explore product prices"
   ]
  },
  {
   "cell_type": "code",
   "execution_count": 18,
   "id": "0e460cc0",
   "metadata": {},
   "outputs": [
    {
     "name": "stdout",
     "output_type": "stream",
     "text": [
      "A total of 46384 product IDs (out of 182006) in the training set have no price.\n"
     ]
    }
   ],
   "source": [
    "na_prices_train = sum(pid not in pid_price for pid in pid_train)\n",
    "print(f\"A total of {na_prices_train} product IDs (out of {len(pid_train)}) in the training set have no price.\")"
   ]
  },
  {
   "cell_type": "code",
   "execution_count": 19,
   "id": "c0ecd2ec",
   "metadata": {},
   "outputs": [
    {
     "name": "stdout",
     "output_type": "stream",
     "text": [
      "A total of 11475 product IDs (out of 45502) in the test set have no price.\n"
     ]
    }
   ],
   "source": [
    "na_prices_test  = sum(pid not in pid_price for pid in pid_test)\n",
    "print(f\"A total of {na_prices_test} product IDs (out of {len(pid_test)}) in the test set have no price.\")"
   ]
  },
  {
   "cell_type": "code",
   "execution_count": 20,
   "id": "5fa92a8b",
   "metadata": {},
   "outputs": [
    {
     "data": {
      "image/png": "[encoded data removed]",
      "text/plain": [
       "<Figure size 1200x600 with 1 Axes>"
      ]
     },
     "metadata": {},
     "output_type": "display_data"
    }
   ],
   "source": [
    "# Calculate the percentage of missing prices for each product category\n",
    "na_c_price = 100 * df_train[df_train['pid_price'].isna()]['pid_categ'].value_counts() / df_train['pid_categ'].value_counts()\n",
    "\n",
    "plt.figure(figsize=(12, 6))\n",
    "_ = sns.barplot(x=na_c_price.index, y=na_c_price.values).set(\n",
    "    xlabel=\"Product class\",\n",
    "    ylabel=\"Missing prices (%)\",\n",
    "    title=\"Products (%) with missing price per product category\"\n",
    ")"
   ]
  },
  {
   "cell_type": "code",
   "execution_count": 21,
   "id": "067ecd16",
   "metadata": {},
   "outputs": [
    {
     "data": {
      "application/vnd.microsoft.datawrangler.viewer.v0+json": {
       "columns": [
        {
         "name": "pid_categ",
         "rawType": "int64",
         "type": "integer"
        },
        {
         "name": "count",
         "rawType": "float64",
         "type": "float"
        }
       ],
       "ref": "43dd11c6-0793-4414-9f9b-c012367ec7ff",
       "rows": [
        [
         "0",
         "64.79393339927465"
        ],
        [
         "11",
         "37.36664795058956"
        ],
        [
         "9",
         "34.99446290143965"
        ],
        [
         "13",
         "33.333333333333336"
        ],
        [
         "15",
         "31.914893617021278"
        ],
        [
         "4",
         "31.620133961138006"
        ],
        [
         "5",
         "28.21793289193132"
        ],
        [
         "6",
         "28.163265306122447"
        ],
        [
         "3",
         "25.214312336936267"
        ],
        [
         "14",
         "24.357838795394155"
        ],
        [
         "10",
         "22.890424701816965"
        ],
        [
         "1",
         "21.659219290110446"
        ],
        [
         "8",
         "18.477435040267437"
        ],
        [
         "12",
         "15.685679611650485"
        ],
        [
         "2",
         "15.097087378640778"
        ],
        [
         "7",
         "11.97228144989339"
        ]
       ],
       "shape": {
        "columns": 1,
        "rows": 16
       }
      },
      "text/plain": [
       "pid_categ\n",
       "0     64.793933\n",
       "11    37.366648\n",
       "9     34.994463\n",
       "13    33.333333\n",
       "15    31.914894\n",
       "4     31.620134\n",
       "5     28.217933\n",
       "6     28.163265\n",
       "3     25.214312\n",
       "14    24.357839\n",
       "10    22.890425\n",
       "1     21.659219\n",
       "8     18.477435\n",
       "12    15.685680\n",
       "2     15.097087\n",
       "7     11.972281\n",
       "Name: count, dtype: float64"
      ]
     },
     "execution_count": 21,
     "metadata": {},
     "output_type": "execute_result"
    }
   ],
   "source": [
    "na_c_price.sort_values(ascending=False)"
   ]
  },
  {
   "cell_type": "code",
   "execution_count": 22,
   "id": "1963d856",
   "metadata": {},
   "outputs": [],
   "source": [
    "prices_90 = df_train.loc[df_train['pid_price'].notna(), ['pid_categ', 'pid_price']].copy()\n",
    "prices_90['price_90'] = prices_90.groupby('pid_categ')['pid_price'].transform(lambda x: x.clip(upper=x.quantile(0.95)))"
   ]
  },
  {
   "cell_type": "code",
   "execution_count": 23,
   "id": "b9acd920",
   "metadata": {},
   "outputs": [
    {
     "data": {
      "image/png": "[encoded data removed]",
      "text/plain": [
       "<Figure size 1800x800 with 1 Axes>"
      ]
     },
     "metadata": {},
     "output_type": "display_data"
    }
   ],
   "source": [
    "plt.figure(figsize=(18, 8))\n",
    "# Plot boxplots with the distribution among classes of product prices in the training set\n",
    "_ = sns.boxplot(\n",
    "    x='pid_categ', \n",
    "    y='price_90', \n",
    "    data=prices_90\n",
    ").set(\n",
    "    xlabel=\"Product Category\",\n",
    "    ylabel=\"Price (clipped at 95th percentile)\",\n",
    "    title=\"Distribution of Prices per Category (Clipped at 90th Percentile)\"\n",
    ")"
   ]
  },
  {
   "cell_type": "markdown",
   "id": "ae063d29",
   "metadata": {},
   "source": [
    "## Explore product graph"
   ]
  },
  {
   "cell_type": "code",
   "execution_count": 24,
   "id": "d47abc6d",
   "metadata": {},
   "outputs": [],
   "source": [
    "# Function to extract neighbors (connected product IDs) from the graph\n",
    "def get_connected_products(pid, graph):\n",
    "    return list(graph.neighbors(pid)) if graph.has_node(pid) else []\n",
    "\n",
    "# Create a new column to store the connected product IDs in the training and test set \n",
    "for df in [df_train, df_test]: df['pid_graph'] = df['pid'].apply(lambda pid: get_connected_products(pid, G))\n",
    "\n",
    "# Create a new column to count the number of connected products in the training and test set\n",
    "for df in [df_train, df_test]: df['pid_graph_count'] = df['pid_graph'].apply(lambda x: len(x) if isinstance(x, list) else 0)"
   ]
  },
  {
   "cell_type": "code",
   "execution_count": 25,
   "id": "d2457455",
   "metadata": {},
   "outputs": [],
   "source": [
    "graph_90 = df_train[['pid_categ', 'pid_graph_count']].copy()\n",
    "graph_90['pid_graph_count'] = graph_90.groupby('pid_categ')['pid_graph_count'].transform(lambda x: x.clip(upper=x.quantile(0.95)))"
   ]
  },
  {
   "cell_type": "code",
   "execution_count": 26,
   "id": "63b8cd33",
   "metadata": {},
   "outputs": [
    {
     "data": {
      "image/png": "[encoded data removed]",
      "text/plain": [
       "<Figure size 1800x800 with 1 Axes>"
      ]
     },
     "metadata": {},
     "output_type": "display_data"
    }
   ],
   "source": [
    "plt.figure(figsize=(18, 8))\n",
    "_ = sns.boxplot(\n",
    "    x='pid_categ', \n",
    "    y='price_90', \n",
    "    data=prices_90\n",
    ").set(\n",
    "    xlabel=\"Product Category\",\n",
    "    ylabel=\"Number of co-viewed products\",\n",
    "    title=\"Distribution of co-viewed products per category (Clipped at 95th Percentile)\"\n",
    ")"
   ]
  },
  {
   "cell_type": "markdown",
   "id": "56b156c2",
   "metadata": {},
   "source": [
    "# Impute missing data"
   ]
  },
  {
   "cell_type": "markdown",
   "id": "57bff100",
   "metadata": {},
   "source": [
    "## Impute missing product prices"
   ]
  },
  {
   "cell_type": "markdown",
   "id": "a9e5168c",
   "metadata": {},
   "source": [
    "* Inputation strategy 1: Fill missing prices with the median of the co-viewed products in the graph."
   ]
  },
  {
   "cell_type": "code",
   "execution_count": null,
   "id": "d7e20e8c",
   "metadata": {},
   "outputs": [],
   "source": [
    "def impute_price_with_neighbors_median(row):\n",
    "    if pd.notna(row['pid_price']):\n",
    "        return row['pid_price']\n",
    "    neighbor_prices = [pid_price[pid] for pid in row['pid_graph'] if pid in pid_price and pd.notna(pid_price[pid])]\n",
    "    return np.median(neighbor_prices).round(2) if neighbor_prices else np.nan\n",
    "\n",
    "# Impute missing prices in the training and test set using the median of the connected (co-viewed) product prices\n",
    "df_train['pid_price'], df_test['pid_price'] = [df.apply(impute_price_with_neighbors_median, axis=1) for df in (df_train, df_test)]"
   ]
  },
  {
   "cell_type": "markdown",
   "id": "f6a5de75",
   "metadata": {},
   "source": [
    "* Inputation strategy 2: Fill missing prices with the mean price of the product neighbors based on TF-IDF."
   ]
  },
  {
   "cell_type": "code",
   "execution_count": 28,
   "id": "d1e07393",
   "metadata": {},
   "outputs": [],
   "source": [
    "from sklearn.feature_extraction.text import TfidfVectorizer\n",
    "from sklearn.neighbors import NearestNeighbors\n",
    "\n",
    "vectorizer = TfidfVectorizer(\n",
    "    max_features=10000,\n",
    "    stop_words='english',\n",
    "    min_df=5,\n",
    "    max_df=0.9,\n",
    ")\n",
    "\n",
    "# Filter out rows with non-null prices for training and test sets\n",
    "df_train_with_price  = df_train[df_train['pid_price'].notnull()]\n",
    "df_train_miss_price  = df_train[df_train['pid_price'].isnull()]\n",
    "df_test_miss_price   = df_test[df_test['pid_price'].isnull()]\n",
    "\n",
    "# Vectorize product descriptions using TF-IDF\n",
    "X_train_with_price = vectorizer.fit_transform(df_train_with_price['pid_desc'])\n",
    "\n",
    "X_train_miss_price = vectorizer.transform(df_train_miss_price['pid_desc'])\n",
    "X_test_miss_price  = vectorizer.transform(df_test_miss_price['pid_desc'])\n",
    "\n",
    "# Fit NearestNeighbors using known train prices\n",
    "nbrs = NearestNeighbors(n_neighbors=5, metric='cosine').fit(X_train_with_price)\n",
    "\n",
    "# Impute missing prices for train\n",
    "_, indices_train = nbrs.kneighbors(X_train_miss_price)\n",
    "imputed_prices_train = [df_train_with_price.iloc[inds]['pid_price'].mean().round(2) for inds in indices_train]\n",
    "\n",
    "# Impute missing prices for test\n",
    "_, indices_test = nbrs.kneighbors(X_test_miss_price)\n",
    "imputed_prices_test = [df_train_with_price.iloc[inds]['pid_price'].mean().round(2) for inds in indices_test]\n",
    "\n",
    "for df, imputed in zip([df_train, df_test], [imputed_prices_train, imputed_prices_test]): df.loc[df['pid_price'].isnull(), 'pid_price'] = imputed"
   ]
  },
  {
   "cell_type": "markdown",
   "id": "adea77cb",
   "metadata": {},
   "source": [
    "# Feature engineering"
   ]
  },
  {
   "cell_type": "markdown",
   "id": "a0dc6e44",
   "metadata": {},
   "source": [
    "## Features from graph"
   ]
  },
  {
   "cell_type": "code",
   "execution_count": null,
   "id": "64356dde",
   "metadata": {},
   "outputs": [],
   "source": [
    "import community as community_louvain\n",
    "\n",
    "# Compute the core number of each node\n",
    "core_num = nx.core_number(G)\n",
    "# Compute the clustering coefficients for each node\n",
    "clustering = nx.clustering(G)\n",
    "# Compute the average neighbor degree for each node\n",
    "avg_neighbor_degree = nx.average_neighbor_degree(G)\n",
    "# Compute the best partition using Louvain method for each node\n",
    "partition = community_louvain.best_partition(G)\n",
    "# Compute the pagerank for each node\n",
    "pagerank = nx.pagerank(G)\n",
    "# Compute the ego size for each node\n",
    "ego_size = {node: G.degree(node) for node in G.nodes}"
   ]
  },
  {
   "cell_type": "code",
   "execution_count": 84,
   "id": "18795436",
   "metadata": {},
   "outputs": [],
   "source": [
    "# Create new columns with the graph-based features for the training set \n",
    "df_train['core_number']        = df_train['pid'].map(core_num)\n",
    "df_train['clustering']         = df_train['pid'].map(clustering)\n",
    "df_train['avg_neighbor_degree']= df_train['pid'].map(avg_neighbor_degree)\n",
    "df_train['community']          = df_train['pid'].map(partition)\n",
    "df_train['pagerank']           = df_train['pid'].map(pagerank)\n",
    "df_train['ego_size']           = df_train['pid'].map(ego_size)\n",
    "\n",
    "# Create new columns with the graph-based features for the test set \n",
    "df_test['core_number']         = df_test['pid'].map(core_num)\n",
    "df_test['clustering']          = df_test['pid'].map(clustering)\n",
    "df_test['avg_neighbor_degree'] = df_test['pid'].map(avg_neighbor_degree)\n",
    "df_test['community']           = df_test['pid'].map(partition)\n",
    "df_test['pagerank']            = df_test['pid'].map(pagerank)\n",
    "df_test['ego_size']            = df_train['pid'].map(ego_size)"
   ]
  },
  {
   "cell_type": "markdown",
   "id": "6e93f541",
   "metadata": {},
   "source": [
    "## Features from product descriptions"
   ]
  },
  {
   "cell_type": "code",
   "execution_count": 31,
   "id": "f4ca0e1b",
   "metadata": {},
   "outputs": [],
   "source": [
    "# Create a copy of the original product description column for the TF-IDF\n",
    "for df in [df_train, df_test]: df['pid_desc_tfidf'] = df['pid_desc'].copy()\n",
    "\n",
    "# Convert product descriptions to lowercase\n",
    "for df in [df_train, df_test]: df['pid_desc_tfidf'] = df['pid_desc_tfidf'].str.lower()\n",
    "\n",
    "# Remove punctuation from the product descriptions\n",
    "for df in [df_train, df_test]: df['pid_desc_tfidf'] = df['pid_desc_tfidf'].str.replace(r'[^\\w\\s]', '', regex=True)\n",
    "\n",
    "# Remove digits from the product descriptions\n",
    "for df in [df_train, df_test]: df['pid_desc_tfidf'] = df['pid_desc_tfidf'].str.replace(r'\\d+', '', regex=True)\n",
    "\n",
    "# Normalize whitespaces on produdct descriptions\n",
    "for df in [df_train, df_test]: df['pid_desc_tfidf'] = df['pid_desc_tfidf'].str.replace(r'\\s+', ' ', regex=True).str.strip()\n",
    "\n",
    "# Remove words with 1-character and 2-character length \n",
    "for df in [df_train, df_test]: df['pid_desc_tfidf'] = df['pid_desc_tfidf'].apply(lambda x: ' '.join([word for word in x.split() if len(word) > 2]))"
   ]
  },
  {
   "cell_type": "code",
   "execution_count": 32,
   "id": "c3b5a0a5",
   "metadata": {},
   "outputs": [],
   "source": [
    "from sklearn.feature_extraction.text import ENGLISH_STOP_WORDS\n",
    "\n",
    "# Remove english stopwords from the product descriptions (ENGLISH_STOP_WORDS of sklearn)\n",
    "for df in [df_train, df_test]: df['pid_desc_tfidf'] = df['pid_desc_tfidf'].apply(lambda x: ' '.join([word for word in x.split() if word not in ENGLISH_STOP_WORDS]))"
   ]
  },
  {
   "cell_type": "code",
   "execution_count": 33,
   "id": "ede00400",
   "metadata": {},
   "outputs": [
    {
     "name": "stderr",
     "output_type": "stream",
     "text": [
      "[nltk_data] Downloading package wordnet to\n",
      "[nltk_data]     /Users/mountzou/nltk_data...\n",
      "[nltk_data]   Package wordnet is already up-to-date!\n"
     ]
    }
   ],
   "source": [
    "import nltk\n",
    "import spacy\n",
    "\n",
    "nltk.download('wordnet')\n",
    "nlp = spacy.load(\"en_core_web_sm\")"
   ]
  },
  {
   "cell_type": "code",
   "execution_count": null,
   "id": "3a86938c",
   "metadata": {},
   "outputs": [],
   "source": [
    "from nltk.stem import WordNetLemmatizer\n",
    "lemmatizer = WordNetLemmatizer()\n",
    "\n",
    "# Lemmatize words of product descriptions (e.g., running -> run)\n",
    "for df in [df_train, df_test]: df['pid_desc_tfidf'] = df['pid_desc_tfidf'].apply(lambda x: ' '.join([lemmatizer.lemmatize(word) for word in x.split()]))"
   ]
  },
  {
   "cell_type": "code",
   "execution_count": 35,
   "id": "6b6645e2",
   "metadata": {},
   "outputs": [],
   "source": [
    "# Remove pronouns, determiners, coordinating conjunctions, and subordinating conjunctions from product descriptions\n",
    "def spacy_remove_specific_pos(text, remove_pos={'PRON', 'DET', 'CCONJ', 'SCONJ'}):\n",
    "    doc = nlp(text)\n",
    "    return ' '.join([token.text for token in doc if token.pos_ not in remove_pos])\n",
    "\n",
    "for df in [df_train, df_test]: df['pid_desc_tfidf'] = df['pid_desc_tfidf'].astype(str).apply(lambda x: spacy_remove_specific_pos(x))"
   ]
  },
  {
   "cell_type": "code",
   "execution_count": null,
   "id": "a8dedd33",
   "metadata": {},
   "outputs": [
    {
     "name": "stdout",
     "output_type": "stream",
     "text": [
      "Words with frequency > 60 in every category: ['bag', 'best', 'black', 'color', 'come', 'comfort', 'design', 'designed', 'durable', 'easy', 'extra', 'feature', 'glove', 'great', 'grip', 'hand', 'head', 'help', 'high', 'inch', 'includes', 'large', 'length', 'line', 'make', 'material', 'need', 'new', 'nylon', 'offer', 'perfect', 'performance', 'product', 'quality', 'set', 'size', 'standard', 'time', 'use', 'used', 'weight']\n"
     ]
    }
   ],
   "source": [
    "from nltk.tokenize import word_tokenize\n",
    "\n",
    "# Tokenize product descriptions using word_tokenize of NLTK\n",
    "def text_tokenize(text):\n",
    "    return word_tokenize(str(text).lower())\n",
    "\n",
    "common_words_categ = []\n",
    "\n",
    "for cat in df_train['pid_categ'].unique():\n",
    "    texts = df_train.loc[df_train['pid_categ'] == cat, 'pid_desc_tfidf']\n",
    "    tokens = (token for text in texts for token in text_tokenize(text))\n",
    "    word_counts = Counter(tokens)\n",
    "    common_words = {word for word, count in word_counts.items() if count > 60}\n",
    "    common_words_categ.append(common_words)\n",
    "\n",
    "all_common_words = set.intersection(*common_words_categ) if common_words_categ else set()\n",
    "print(\"Words with frequency > 60 in all product categories:\", sorted(all_common_words))"
   ]
  },
  {
   "cell_type": "code",
   "execution_count": 46,
   "id": "240a7122",
   "metadata": {},
   "outputs": [],
   "source": [
    "# Remove common words (frequnecy > 60) from product descriptions\n",
    "def remove_common_words(text, words_to_remove):\n",
    "    tokens = text_tokenize(text)\n",
    "    return ' '.join([token for token in tokens if token not in words_to_remove])\n",
    "\n",
    "for df in [df_train, df_test]:df['pid_desc_tfidf'] = df['pid_desc_tfidf'].apply(lambda x: remove_common_words(x, all_common_words))"
   ]
  },
  {
   "cell_type": "code",
   "execution_count": 73,
   "id": "4039b848",
   "metadata": {},
   "outputs": [
    {
     "data": {
      "application/vnd.microsoft.datawrangler.viewer.v0+json": {
       "columns": [
        {
         "name": "index",
         "rawType": "int64",
         "type": "integer"
        },
        {
         "name": "9",
         "rawType": "object",
         "type": "string"
        },
        {
         "name": "3",
         "rawType": "object",
         "type": "string"
        },
        {
         "name": "2",
         "rawType": "object",
         "type": "string"
        },
        {
         "name": "5",
         "rawType": "object",
         "type": "string"
        },
        {
         "name": "0",
         "rawType": "object",
         "type": "string"
        },
        {
         "name": "1",
         "rawType": "object",
         "type": "string"
        },
        {
         "name": "10",
         "rawType": "object",
         "type": "string"
        },
        {
         "name": "6",
         "rawType": "object",
         "type": "string"
        },
        {
         "name": "8",
         "rawType": "object",
         "type": "string"
        },
        {
         "name": "7",
         "rawType": "object",
         "type": "string"
        },
        {
         "name": "14",
         "rawType": "object",
         "type": "string"
        },
        {
         "name": "4",
         "rawType": "object",
         "type": "string"
        },
        {
         "name": "12",
         "rawType": "object",
         "type": "string"
        },
        {
         "name": "11",
         "rawType": "object",
         "type": "string"
        },
        {
         "name": "13",
         "rawType": "object",
         "type": "string"
        },
        {
         "name": "15",
         "rawType": "object",
         "type": "string"
        }
       ],
       "ref": "d32a2e1c-0145-4e98-894c-e3eb47ee7a0b",
       "rows": [
        [
         "1",
         "skate",
         "golf",
         "holster",
         "bike",
         "men",
         "bottle",
         "tent",
         "workout",
         "ball",
         "team",
         "racquet",
         "water",
         "airsoft",
         "bat",
         "helmet",
         "horse"
        ],
        [
         "2",
         "wheel",
         "ball",
         "knife",
         "bicycle",
         "short",
         "watch",
         "pack",
         "yoga",
         "table",
         "logo",
         "tennis",
         "boat",
         "gun",
         "ball",
         "ski",
         "saddle"
        ],
        [
         "3",
         "skateboard",
         "club",
         "gun",
         "tire",
         "womens",
         "water",
         "pocket",
         "exercise",
         "game",
         "nfl",
         "ball",
         "fit",
         "paintball",
         "baseball",
         "snow",
         "leather"
        ],
        [
         "4",
         "scooter",
         "cart",
         "fit",
         "light",
         "pant",
         "men",
         "knife",
         "mat",
         "dart",
         "licensed",
         "player",
         "fin",
         "rifle",
         "player",
         "lens",
         "halter"
        ],
        [
         "5",
         "bearing",
         "distance",
         "blade",
         "wheel",
         "sock",
         "sport",
         "water",
         "fitness",
         "disc",
         "mlb",
         "power",
         "marine",
         "pistol",
         "sport",
         "goggles",
         "pad"
        ],
        [
         "6",
         "deck",
         "iron",
         "steel",
         "rear",
         "sleeve",
         "bike",
         "handle",
         "body",
         "cue",
         "officially",
         "racket",
         "strap",
         "barrel",
         "softball",
         "fit",
         "fit"
        ],
        [
         "7",
         "roller",
         "putter",
         "handle",
         "helmet",
         "fabric",
         "steel",
         "steel",
         "training",
         "chip",
         "cap",
         "badminton",
         "swim",
         "tactical",
         "basketball",
         "snowboard",
         "whip"
        ],
        [
         "8",
         "speed",
         "tee",
         "belt",
         "alloy",
         "champion",
         "stainless",
         "camping",
         "muscle",
         "trampoline",
         "ncaa",
         "frame",
         "kayak",
         "magazine",
         "net",
         "goggle",
         "bit"
        ],
        [
         "9",
         "truck",
         "driver",
         "sight",
         "road",
         "athletic",
         "rack",
         "blade",
         "bar",
         "poker",
         "flag",
         "string",
         "mask",
         "metal",
         "fit",
         "strap",
         "riding"
        ],
        [
         "10",
         "complete",
         "feel",
         "tactical",
         "brake",
         "fit",
         "display",
         "strap",
         "resistance",
         "player",
         "favorite",
         "wilson",
         "foot",
         "spring",
         "soccer",
         "frame",
         "strap"
        ]
       ],
       "shape": {
        "columns": 16,
        "rows": 10
       }
      },
      "text/html": [
       "<div>\n",
       "<style scoped>\n",
       "    .dataframe tbody tr th:only-of-type {\n",
       "        vertical-align: middle;\n",
       "    }\n",
       "\n",
       "    .dataframe tbody tr th {\n",
       "        vertical-align: top;\n",
       "    }\n",
       "\n",
       "    .dataframe thead th {\n",
       "        text-align: right;\n",
       "    }\n",
       "</style>\n",
       "<table border=\"1\" class=\"dataframe\">\n",
       "  <thead>\n",
       "    <tr style=\"text-align: right;\">\n",
       "      <th></th>\n",
       "      <th>9</th>\n",
       "      <th>3</th>\n",
       "      <th>2</th>\n",
       "      <th>5</th>\n",
       "      <th>0</th>\n",
       "      <th>1</th>\n",
       "      <th>10</th>\n",
       "      <th>6</th>\n",
       "      <th>8</th>\n",
       "      <th>7</th>\n",
       "      <th>14</th>\n",
       "      <th>4</th>\n",
       "      <th>12</th>\n",
       "      <th>11</th>\n",
       "      <th>13</th>\n",
       "      <th>15</th>\n",
       "    </tr>\n",
       "  </thead>\n",
       "  <tbody>\n",
       "    <tr>\n",
       "      <th>1</th>\n",
       "      <td>skate</td>\n",
       "      <td>golf</td>\n",
       "      <td>holster</td>\n",
       "      <td>bike</td>\n",
       "      <td>men</td>\n",
       "      <td>bottle</td>\n",
       "      <td>tent</td>\n",
       "      <td>workout</td>\n",
       "      <td>ball</td>\n",
       "      <td>team</td>\n",
       "      <td>racquet</td>\n",
       "      <td>water</td>\n",
       "      <td>airsoft</td>\n",
       "      <td>bat</td>\n",
       "      <td>helmet</td>\n",
       "      <td>horse</td>\n",
       "    </tr>\n",
       "    <tr>\n",
       "      <th>2</th>\n",
       "      <td>wheel</td>\n",
       "      <td>ball</td>\n",
       "      <td>knife</td>\n",
       "      <td>bicycle</td>\n",
       "      <td>short</td>\n",
       "      <td>watch</td>\n",
       "      <td>pack</td>\n",
       "      <td>yoga</td>\n",
       "      <td>table</td>\n",
       "      <td>logo</td>\n",
       "      <td>tennis</td>\n",
       "      <td>boat</td>\n",
       "      <td>gun</td>\n",
       "      <td>ball</td>\n",
       "      <td>ski</td>\n",
       "      <td>saddle</td>\n",
       "    </tr>\n",
       "    <tr>\n",
       "      <th>3</th>\n",
       "      <td>skateboard</td>\n",
       "      <td>club</td>\n",
       "      <td>gun</td>\n",
       "      <td>tire</td>\n",
       "      <td>womens</td>\n",
       "      <td>water</td>\n",
       "      <td>pocket</td>\n",
       "      <td>exercise</td>\n",
       "      <td>game</td>\n",
       "      <td>nfl</td>\n",
       "      <td>ball</td>\n",
       "      <td>fit</td>\n",
       "      <td>paintball</td>\n",
       "      <td>baseball</td>\n",
       "      <td>snow</td>\n",
       "      <td>leather</td>\n",
       "    </tr>\n",
       "    <tr>\n",
       "      <th>4</th>\n",
       "      <td>scooter</td>\n",
       "      <td>cart</td>\n",
       "      <td>fit</td>\n",
       "      <td>light</td>\n",
       "      <td>pant</td>\n",
       "      <td>men</td>\n",
       "      <td>knife</td>\n",
       "      <td>mat</td>\n",
       "      <td>dart</td>\n",
       "      <td>licensed</td>\n",
       "      <td>player</td>\n",
       "      <td>fin</td>\n",
       "      <td>rifle</td>\n",
       "      <td>player</td>\n",
       "      <td>lens</td>\n",
       "      <td>halter</td>\n",
       "    </tr>\n",
       "    <tr>\n",
       "      <th>5</th>\n",
       "      <td>bearing</td>\n",
       "      <td>distance</td>\n",
       "      <td>blade</td>\n",
       "      <td>wheel</td>\n",
       "      <td>sock</td>\n",
       "      <td>sport</td>\n",
       "      <td>water</td>\n",
       "      <td>fitness</td>\n",
       "      <td>disc</td>\n",
       "      <td>mlb</td>\n",
       "      <td>power</td>\n",
       "      <td>marine</td>\n",
       "      <td>pistol</td>\n",
       "      <td>sport</td>\n",
       "      <td>goggles</td>\n",
       "      <td>pad</td>\n",
       "    </tr>\n",
       "    <tr>\n",
       "      <th>6</th>\n",
       "      <td>deck</td>\n",
       "      <td>iron</td>\n",
       "      <td>steel</td>\n",
       "      <td>rear</td>\n",
       "      <td>sleeve</td>\n",
       "      <td>bike</td>\n",
       "      <td>handle</td>\n",
       "      <td>body</td>\n",
       "      <td>cue</td>\n",
       "      <td>officially</td>\n",
       "      <td>racket</td>\n",
       "      <td>strap</td>\n",
       "      <td>barrel</td>\n",
       "      <td>softball</td>\n",
       "      <td>fit</td>\n",
       "      <td>fit</td>\n",
       "    </tr>\n",
       "    <tr>\n",
       "      <th>7</th>\n",
       "      <td>roller</td>\n",
       "      <td>putter</td>\n",
       "      <td>handle</td>\n",
       "      <td>helmet</td>\n",
       "      <td>fabric</td>\n",
       "      <td>steel</td>\n",
       "      <td>steel</td>\n",
       "      <td>training</td>\n",
       "      <td>chip</td>\n",
       "      <td>cap</td>\n",
       "      <td>badminton</td>\n",
       "      <td>swim</td>\n",
       "      <td>tactical</td>\n",
       "      <td>basketball</td>\n",
       "      <td>snowboard</td>\n",
       "      <td>whip</td>\n",
       "    </tr>\n",
       "    <tr>\n",
       "      <th>8</th>\n",
       "      <td>speed</td>\n",
       "      <td>tee</td>\n",
       "      <td>belt</td>\n",
       "      <td>alloy</td>\n",
       "      <td>champion</td>\n",
       "      <td>stainless</td>\n",
       "      <td>camping</td>\n",
       "      <td>muscle</td>\n",
       "      <td>trampoline</td>\n",
       "      <td>ncaa</td>\n",
       "      <td>frame</td>\n",
       "      <td>kayak</td>\n",
       "      <td>magazine</td>\n",
       "      <td>net</td>\n",
       "      <td>goggle</td>\n",
       "      <td>bit</td>\n",
       "    </tr>\n",
       "    <tr>\n",
       "      <th>9</th>\n",
       "      <td>truck</td>\n",
       "      <td>driver</td>\n",
       "      <td>sight</td>\n",
       "      <td>road</td>\n",
       "      <td>athletic</td>\n",
       "      <td>rack</td>\n",
       "      <td>blade</td>\n",
       "      <td>bar</td>\n",
       "      <td>poker</td>\n",
       "      <td>flag</td>\n",
       "      <td>string</td>\n",
       "      <td>mask</td>\n",
       "      <td>metal</td>\n",
       "      <td>fit</td>\n",
       "      <td>strap</td>\n",
       "      <td>riding</td>\n",
       "    </tr>\n",
       "    <tr>\n",
       "      <th>10</th>\n",
       "      <td>complete</td>\n",
       "      <td>feel</td>\n",
       "      <td>tactical</td>\n",
       "      <td>brake</td>\n",
       "      <td>fit</td>\n",
       "      <td>display</td>\n",
       "      <td>strap</td>\n",
       "      <td>resistance</td>\n",
       "      <td>player</td>\n",
       "      <td>favorite</td>\n",
       "      <td>wilson</td>\n",
       "      <td>foot</td>\n",
       "      <td>spring</td>\n",
       "      <td>soccer</td>\n",
       "      <td>frame</td>\n",
       "      <td>strap</td>\n",
       "    </tr>\n",
       "  </tbody>\n",
       "</table>\n",
       "</div>"
      ],
      "text/plain": [
       "            9         3         2        5         0          1        10  \\\n",
       "1        skate      golf   holster     bike       men     bottle     tent   \n",
       "2        wheel      ball     knife  bicycle     short      watch     pack   \n",
       "3   skateboard      club       gun     tire    womens      water   pocket   \n",
       "4      scooter      cart       fit    light      pant        men    knife   \n",
       "5      bearing  distance     blade    wheel      sock      sport    water   \n",
       "6         deck      iron     steel     rear    sleeve       bike   handle   \n",
       "7       roller    putter    handle   helmet    fabric      steel    steel   \n",
       "8        speed       tee      belt    alloy  champion  stainless  camping   \n",
       "9        truck    driver     sight     road  athletic       rack    blade   \n",
       "10    complete      feel  tactical    brake       fit    display    strap   \n",
       "\n",
       "            6           8           7          14      4          12  \\\n",
       "1      workout        ball        team    racquet   water    airsoft   \n",
       "2         yoga       table        logo     tennis    boat        gun   \n",
       "3     exercise        game         nfl       ball     fit  paintball   \n",
       "4          mat        dart    licensed     player     fin      rifle   \n",
       "5      fitness        disc         mlb      power  marine     pistol   \n",
       "6         body         cue  officially     racket   strap     barrel   \n",
       "7     training        chip         cap  badminton    swim   tactical   \n",
       "8       muscle  trampoline        ncaa      frame   kayak   magazine   \n",
       "9          bar       poker        flag     string    mask      metal   \n",
       "10  resistance      player    favorite     wilson    foot     spring   \n",
       "\n",
       "            11         13       15  \n",
       "1          bat     helmet    horse  \n",
       "2         ball        ski   saddle  \n",
       "3     baseball       snow  leather  \n",
       "4       player       lens   halter  \n",
       "5        sport    goggles      pad  \n",
       "6     softball        fit      fit  \n",
       "7   basketball  snowboard     whip  \n",
       "8          net     goggle      bit  \n",
       "9          fit      strap   riding  \n",
       "10      soccer      frame    strap  "
      ]
     },
     "execution_count": 73,
     "metadata": {},
     "output_type": "execute_result"
    }
   ],
   "source": [
    "top_words_per_category = {}\n",
    "\n",
    "for cat in df_train['pid_categ'].unique():\n",
    "    texts = df_train.loc[df_train['pid_categ'] == cat, 'pid_desc_tfidf']\n",
    "    tokens = []\n",
    "    for text in texts:\n",
    "        tokens.extend(str(text).lower().split())\n",
    "    most_common_words = Counter(tokens).most_common(10)\n",
    "    # Format as \"word (count)\" for readability\n",
    "    top_words_per_category[cat] = [word for word, count in most_common_words]\n",
    "\n",
    "df_top_words = pd.DataFrame.from_dict(top_words_per_category, orient='columns')\n",
    "df_top_words.index += 1\n",
    "\n",
    "df_top_words"
   ]
  },
  {
   "cell_type": "code",
   "execution_count": 74,
   "id": "da0e810e",
   "metadata": {},
   "outputs": [],
   "source": [
    "category_top_words = {cat: set(words) for cat, words in top_words_per_category.items()}"
   ]
  },
  {
   "cell_type": "code",
   "execution_count": null,
   "id": "c48d7b9d",
   "metadata": {},
   "outputs": [],
   "source": [
    "# Create new columns 'cX' with the occurencies of TOP-10 most frequent words of each X product category\n",
    "for cat in df_train['pid_categ'].unique():\n",
    "    col_name = f'c{cat}'\n",
    "\n",
    "    # Initialize columns with 0\n",
    "    for df in [df_train, df_test]:df[col_name] = 0\n",
    "\n",
    "    # Get the set of top words for this category\n",
    "    cat_words = category_top_words[cat]\n",
    "\n",
    "    # Count word occurrences for each row\n",
    "    for df in [df_train, df_test]:\n",
    "        df[col_name] = df['pid_desc_tfidf'].apply(\n",
    "            lambda text: sum(word in cat_words for word in str(text).lower().split())\n",
    "        )"
   ]
  },
  {
   "cell_type": "markdown",
   "id": "0b9ae214",
   "metadata": {},
   "source": [
    "## Features from product prices"
   ]
  },
  {
   "cell_type": "code",
   "execution_count": 85,
   "id": "e1977a14",
   "metadata": {},
   "outputs": [],
   "source": [
    "# Create a new column with the log-transformed prices\n",
    "for df in [df_train, df_test]: df['price_log'] = np.log1p(df['pid_price'])"
   ]
  },
  {
   "cell_type": "code",
   "execution_count": 86,
   "id": "b9c1d4fc",
   "metadata": {},
   "outputs": [],
   "source": [
    "# Create a new column with the price deciles i.e., dividing the prices into 10 equal groups\n",
    "for df in [df_train, df_test]: df['price_decile'] = pd.qcut(df['pid_price'], q=10, labels=False) + 1"
   ]
  },
  {
   "cell_type": "code",
   "execution_count": 87,
   "id": "19367e50",
   "metadata": {},
   "outputs": [],
   "source": [
    "def price_ending_pattern(price):\n",
    "    cents = int((price * 100) % 100)\n",
    "    if cents == 99:\n",
    "        return '99' # psychological_99\n",
    "    elif cents == 95:\n",
    "        return '95' # psychological_99\n",
    "    elif cents == 0:\n",
    "        return '00' # round dollar\n",
    "    elif cents == 50:\n",
    "        return '50' # round half dollar\n",
    "    elif cents % 10 == 0:\n",
    "        return 'X0' # round dime\n",
    "    else:\n",
    "        return 'XX'\n",
    "\n",
    "# Create a new column with the price ending pattern (last 2 digits after decimal)\n",
    "for df in [df_train, df_test]: df['price_ending'] = df['pid_price'].apply(price_ending_pattern)"
   ]
  },
  {
   "cell_type": "code",
   "execution_count": 88,
   "id": "17676b86",
   "metadata": {},
   "outputs": [],
   "source": [
    "def price_segments(price):\n",
    "    if price < 1:\n",
    "        return 'U1'  # under 1 dollar\n",
    "    elif price < 10:\n",
    "        return 'U10' # under 10 dollars\n",
    "    elif price < 50: \n",
    "        return 'U50' # under 50 dollars\n",
    "    elif price < 100:\n",
    "        return 'U100' # under 100 dollars\n",
    "    else:\n",
    "        return 'O100' # over 100 dollars\n",
    "\n",
    "# Create a new column with price segments based on price ranges (under 1, 1-10, 10-50, 50-100, over 100)\n",
    "for df in [df_train, df_test]: df['price_segment'] = df['pid_price'].apply(price_segments)"
   ]
  },
  {
   "cell_type": "code",
   "execution_count": 89,
   "id": "1e2bcd7e",
   "metadata": {},
   "outputs": [],
   "source": [
    "ordered_price_segments = {'U1': 0, 'U10': 1, 'U50': 2, 'U100': 3, 'O100': 4}\n",
    "\n",
    "for df in [df_train, df_test]: df['price_segment_encoded'] = df['price_segment'].map(ordered_price_segments)"
   ]
  },
  {
   "cell_type": "code",
   "execution_count": 90,
   "id": "cbed8055",
   "metadata": {},
   "outputs": [],
   "source": [
    "all_price_endings = set(df_train['price_ending']).union(set(df_test['price_ending']))\n",
    "\n",
    "for price_ending in all_price_endings:\n",
    "    df_train[f'price_ending_{price_ending}'] = (df_train['price_ending'] == price_ending).astype(int)\n",
    "    df_test[f'price_ending_{price_ending}']  = (df_test['price_ending']  == price_ending).astype(int)"
   ]
  },
  {
   "cell_type": "markdown",
   "id": "3da4508a",
   "metadata": {},
   "source": [
    "# Export dataframes"
   ]
  },
  {
   "cell_type": "code",
   "execution_count": 91,
   "id": "7b1fcb19",
   "metadata": {},
   "outputs": [],
   "source": [
    "for df, name in zip([df_train, df_test], ['df_train.csv', 'df_test.csv']): df.to_csv(name, index=False)"
   ]
  }
 ],
 "metadata": {
  "kernelspec": {
   "display_name": "Python 3",
   "language": "python",
   "name": "python3"
  },
  "language_info": {
   "codemirror_mode": {
    "name": "ipython",
    "version": 3
   },
   "file_extension": ".py",
   "mimetype": "text/x-python",
   "name": "python",
   "nbconvert_exporter": "python",
   "pygments_lexer": "ipython3",
   "version": "3.9.6"
  }
 },
 "nbformat": 4,
 "nbformat_minor": 5
}
